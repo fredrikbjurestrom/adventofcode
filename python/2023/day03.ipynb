{
 "cells": [
  {
   "cell_type": "markdown",
   "metadata": {},
   "source": [
    "# Day 03: Gear Ratios"
   ]
  },
  {
   "cell_type": "markdown",
   "metadata": {},
   "source": [
    "## Setup"
   ]
  },
  {
   "cell_type": "code",
   "execution_count": 1,
   "metadata": {
    "ExecuteTime": {
     "end_time": "2023-12-03T13:31:21.609839600Z",
     "start_time": "2023-12-03T13:31:21.588045600Z"
    }
   },
   "outputs": [],
   "source": [
    "data = [[c for c in line] for line in open(\"./inputs/day03.txt\", \"r\").read().splitlines()]"
   ]
  },
  {
   "cell_type": "markdown",
   "metadata": {},
   "source": [
    "## Part 1\n",
    "Iterate the input and for every digit, concat into a number and check if any surrounding points have a symbol in them.\n",
    "Keep doing it in the same row until a non digit character (or line break) appears, then add the concatenated value if at least one digit neighbours a symbol."
   ]
  },
  {
   "cell_type": "code",
   "execution_count": 2,
   "outputs": [
    {
     "name": "stdout",
     "output_type": "stream",
     "text": [
      "531561\n"
     ]
    }
   ],
   "source": [
    "def has_adjacent_symbol(digit_x, digit_y):\n",
    "    for adjacent_y in range(digit_y - 1, digit_y + 2):\n",
    "\n",
    "        if adjacent_y < 0 or adjacent_y >= len(data):\n",
    "            continue\n",
    "\n",
    "        for adjacent_x in range(digit_x - 1, digit_x + 2):\n",
    "            if adjacent_x < 0 or adjacent_x >= len(data):\n",
    "                continue\n",
    "\n",
    "            neighbour = data[adjacent_y][adjacent_x]\n",
    "            if not neighbour.isnumeric() and neighbour != \".\":\n",
    "                return True\n",
    "\n",
    "    return False\n",
    "\n",
    "\n",
    "parts_adjacent_to_symbol = []\n",
    "\n",
    "for y, row in enumerate(data):\n",
    "    value = \"\"\n",
    "    is_symbol_adjacent = False\n",
    "\n",
    "    for x, cell in enumerate(row):\n",
    "        if cell.isnumeric():\n",
    "            value += cell\n",
    "            is_symbol_adjacent = has_adjacent_symbol(x, y) or is_symbol_adjacent\n",
    "        elif value:\n",
    "            if is_symbol_adjacent:\n",
    "                parts_adjacent_to_symbol.append(int(value))\n",
    "            value = \"\"\n",
    "            is_symbol_adjacent = False\n",
    "\n",
    "    if value and is_symbol_adjacent:\n",
    "        parts_adjacent_to_symbol.append(int(value))\n",
    "\n",
    "print(sum(parts_adjacent_to_symbol))"
   ],
   "metadata": {
    "collapsed": false,
    "ExecuteTime": {
     "end_time": "2023-12-03T13:31:21.665803500Z",
     "start_time": "2023-12-03T13:31:21.599150300Z"
    }
   }
  },
  {
   "cell_type": "markdown",
   "metadata": {},
   "source": [
    "## Part 2\n",
    "Replace the adjacency function to one which only identifies gears (*) and returns its position. Then save each identified gear into a dictionary which keep tracks of all the \"gear prospect\" numbers. After that, we're filtering the gears with exactly two neighbours and sums their product."
   ]
  },
  {
   "cell_type": "code",
   "execution_count": 3,
   "metadata": {
    "ExecuteTime": {
     "end_time": "2023-12-03T13:31:21.820295600Z",
     "start_time": "2023-12-03T13:31:21.662800300Z"
    }
   },
   "outputs": [
    {
     "name": "stdout",
     "output_type": "stream",
     "text": [
      "83279367\n"
     ]
    }
   ],
   "source": [
    "def get_neighbouring_gear(digit_x, digit_y):\n",
    "    for adjacent_y in range(digit_y - 1, digit_y + 2):\n",
    "\n",
    "        if adjacent_y < 0 or adjacent_y >= len(data):\n",
    "            continue\n",
    "\n",
    "        for adjacent_x in range(digit_x - 1, digit_x + 2):\n",
    "            if adjacent_x < 0 or adjacent_x >= len(data):\n",
    "                continue\n",
    "\n",
    "            if data[adjacent_y][adjacent_x] == \"*\":\n",
    "                return adjacent_x, adjacent_y\n",
    "\n",
    "    return None\n",
    "\n",
    "\n",
    "def append_dict(dictionary, keys, value_to_add):\n",
    "    for key in keys:\n",
    "        if key in dictionary:\n",
    "            dictionary[key].append(value_to_add)\n",
    "        else:\n",
    "            dictionary[key] = [value_to_add]\n",
    "\n",
    "\n",
    "gear_candidates = {}\n",
    "\n",
    "for y, row in enumerate(data):\n",
    "    value = \"\"\n",
    "    adjacent_gears = set()\n",
    "\n",
    "    for x, cell in enumerate(row):\n",
    "        if cell.isnumeric():\n",
    "            value += cell\n",
    "            gear_candidate = get_neighbouring_gear(x, y)\n",
    "            if gear_candidate:\n",
    "                adjacent_gears.add(gear_candidate)\n",
    "        elif value:\n",
    "            if adjacent_gears:\n",
    "                append_dict(gear_candidates, adjacent_gears, int(value))\n",
    "            value = \"\"\n",
    "            adjacent_gears = set()\n",
    "\n",
    "    if value and adjacent_gears:\n",
    "        append_dict(gear_candidates, adjacent_gears, int(value))\n",
    "\n",
    "gears = [gear_candidates[pos][0] * gear_candidates[pos][1] for pos in gear_candidates if len(gear_candidates[pos]) == 2]\n",
    "\n",
    "print(sum(gears))"
   ]
  },
  {
   "cell_type": "markdown",
   "source": [],
   "metadata": {
    "collapsed": false
   }
  }
 ],
 "metadata": {
  "kernelspec": {
   "display_name": "Python 3.10.3 64-bit",
   "language": "python",
   "name": "python3"
  },
  "language_info": {
   "codemirror_mode": {
    "name": "ipython",
    "version": 3
   },
   "file_extension": ".py",
   "mimetype": "text/x-python",
   "name": "python",
   "nbconvert_exporter": "python",
   "pygments_lexer": "ipython3",
   "version": "3.10.3"
  },
  "orig_nbformat": 4,
  "vscode": {
   "interpreter": {
    "hash": "d3b76649bff34fbd56b443403a4f51b68d358ac0109e87eef96f1b070706b26a"
   }
  }
 },
 "nbformat": 4,
 "nbformat_minor": 2
}
