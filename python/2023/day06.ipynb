{
 "cells": [
  {
   "cell_type": "markdown",
   "metadata": {},
   "source": [
    "# Day 06: Wait For It"
   ]
  },
  {
   "cell_type": "markdown",
   "metadata": {},
   "source": [
    "## Setup"
   ]
  },
  {
   "cell_type": "code",
   "execution_count": 1,
   "metadata": {
    "ExecuteTime": {
     "end_time": "2023-12-06T07:35:32.969007500Z",
     "start_time": "2023-12-06T07:35:32.852880100Z"
    }
   },
   "outputs": [],
   "source": [
    "import numpy as np\n",
    "\n",
    "data = [line for line in open(\"./inputs/day06.txt\", \"r\").read().splitlines()]"
   ]
  },
  {
   "cell_type": "markdown",
   "metadata": {},
   "source": [
    "## Part 1\n",
    "Naïve approach, surely in for a surprise in part 2"
   ]
  },
  {
   "cell_type": "code",
   "execution_count": 2,
   "outputs": [
    {
     "name": "stdout",
     "output_type": "stream",
     "text": [
      "1731600\n"
     ]
    }
   ],
   "source": [
    "times = [int(d) for d in data[0].split(\":\")[1].split(\" \") if d]\n",
    "distances = [int(d) for d in data[1].split(\":\")[1].split(\" \") if d]\n",
    "\n",
    "ways_to_win = []\n",
    "for i in range(len(times)):    \n",
    "    wins = 0\n",
    "    for n in range(times[i]):\n",
    "        travel_distance = n * (times[i]-n)\n",
    "        \n",
    "        if travel_distance > distances[i]:\n",
    "            wins += 1\n",
    "            \n",
    "    ways_to_win.append(wins)\n",
    "    \n",
    "print(np.prod(np.array(ways_to_win)))"
   ],
   "metadata": {
    "collapsed": false,
    "ExecuteTime": {
     "end_time": "2023-12-06T07:35:32.977149200Z",
     "start_time": "2023-12-06T07:35:32.969007500Z"
    }
   }
  },
  {
   "cell_type": "markdown",
   "metadata": {},
   "source": [
    "## Part 2\n",
    "Is this really day 6? Ok, it takes 10s, but I'm not going to bother"
   ]
  },
  {
   "cell_type": "code",
   "execution_count": 3,
   "metadata": {
    "ExecuteTime": {
     "end_time": "2023-12-06T07:35:45.264528900Z",
     "start_time": "2023-12-06T07:35:32.977149200Z"
    }
   },
   "outputs": [
    {
     "name": "stdout",
     "output_type": "stream",
     "text": [
      "40087680\n"
     ]
    }
   ],
   "source": [
    "time = int(data[0].split(\":\")[1].replace(\" \",\"\"))\n",
    "distance = int(data[1].split(\":\")[1].replace(\" \",\"\"))\n",
    "\n",
    "wins = 0\n",
    "for n in range(time):\n",
    "    travel_distance = n * (time-n)\n",
    "\n",
    "    if travel_distance > distance:\n",
    "        wins += 1\n",
    "        \n",
    "print(wins)"
   ]
  }
 ],
 "metadata": {
  "kernelspec": {
   "display_name": "Python 3.10.3 64-bit",
   "language": "python",
   "name": "python3"
  },
  "language_info": {
   "codemirror_mode": {
    "name": "ipython",
    "version": 3
   },
   "file_extension": ".py",
   "mimetype": "text/x-python",
   "name": "python",
   "nbconvert_exporter": "python",
   "pygments_lexer": "ipython3",
   "version": "3.10.3"
  },
  "orig_nbformat": 4,
  "vscode": {
   "interpreter": {
    "hash": "d3b76649bff34fbd56b443403a4f51b68d358ac0109e87eef96f1b070706b26a"
   }
  }
 },
 "nbformat": 4,
 "nbformat_minor": 2
}
