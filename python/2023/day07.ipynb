{
 "cells": [
  {
   "cell_type": "markdown",
   "source": [
    "# Day 07: Camel Cards"
   ],
   "metadata": {
    "collapsed": false
   },
   "id": "fa10eb48aa357464"
  },
  {
   "cell_type": "markdown",
   "source": [
    "## Setup"
   ],
   "metadata": {
    "collapsed": false
   },
   "id": "df48ecd5844e4b2d"
  },
  {
   "cell_type": "code",
   "execution_count": 1,
   "outputs": [],
   "source": [
    "from collections import Counter\n",
    "\n",
    "data = [line for line in open(\"./inputs/day07.txt\", \"r\").read().splitlines()]"
   ],
   "metadata": {
    "collapsed": false,
    "ExecuteTime": {
     "end_time": "2023-12-07T10:20:54.117543Z",
     "start_time": "2023-12-07T10:20:54.089640900Z"
    }
   },
   "id": "4899da63c4389934"
  },
  {
   "cell_type": "markdown",
   "source": [
    "## Part 1\n",
    "When scoring cards, raise multiply the type score with 10 to the power of 20. Score individual cards multiplied to 10 to the power of 8, 6, 4, 2 and 1 based on position in hand.\n",
    "That way, we can sort each hand by a sum. The powers are generous, it's just important that the scores don't overlap."
   ],
   "metadata": {
    "collapsed": false
   },
   "id": "edee5d251779b831"
  },
  {
   "cell_type": "code",
   "execution_count": 2,
   "outputs": [
    {
     "name": "stdout",
     "output_type": "stream",
     "text": [
      "254024898\n"
     ]
    }
   ],
   "source": [
    "card_value = {\n",
    "    \"2\": 2,\n",
    "    \"3\": 3,\n",
    "    \"4\": 4,\n",
    "    \"5\": 5,\n",
    "    \"6\": 6,\n",
    "    \"7\": 7,\n",
    "    \"8\": 8,\n",
    "    \"9\": 9,\n",
    "    \"T\": 10,\n",
    "    \"J\": 11,\n",
    "    \"Q\": 12,\n",
    "    \"K\": 13,\n",
    "    \"A\": 14\n",
    "}\n",
    "\n",
    "\n",
    "def score_hand(hand):\n",
    "    hand_counter = Counter(hand)\n",
    "    most_common_cards = hand_counter.most_common()\n",
    "\n",
    "    type_score = 0\n",
    "    if most_common_cards[0][1] == 5:\n",
    "        type_score = 6\n",
    "    elif most_common_cards[0][1] == 4:\n",
    "        type_score = 5\n",
    "    elif most_common_cards[0][1] == 3 and most_common_cards[1][1] == 2:\n",
    "        type_score = 4\n",
    "    elif most_common_cards[0][1] == 3:\n",
    "        type_score = 3\n",
    "    elif most_common_cards[0][1] == 2 and most_common_cards[1][1] == 2:\n",
    "        type_score = 2\n",
    "    elif most_common_cards[0][1] == 2:\n",
    "        type_score = 1\n",
    "\n",
    "    card_score = 0\n",
    "    for i, card in enumerate(hand):\n",
    "        card_score += card_value[card] * (10 ** (8 - (i * 2)))\n",
    "\n",
    "    return type_score * (10 ** 10) + card_score\n",
    "\n",
    "\n",
    "scored_hands = []\n",
    "for row in data:\n",
    "    cards, bet = row.split(\" \")\n",
    "\n",
    "    scored_hands.append((cards, score_hand(cards), int(bet)))\n",
    "\n",
    "winnings = 0\n",
    "for rank, ranked_hand in enumerate(sorted(scored_hands, key=lambda x: x[1])):\n",
    "    winnings += (rank + 1) * ranked_hand[2]\n",
    "\n",
    "print(winnings)"
   ],
   "metadata": {
    "collapsed": false,
    "ExecuteTime": {
     "end_time": "2023-12-07T10:20:54.117543Z",
     "start_time": "2023-12-07T10:20:54.101422700Z"
    }
   },
   "id": "cddf9299d2ab5e3f"
  },
  {
   "cell_type": "markdown",
   "source": [
    "## Part 2\n",
    "Jokers are wildcards and have a value of 1 and counts as any card in the purpose of type scoring.\n",
    "We're changing the card_value to 1 and the score function to check wildcards just adds the wildcard count to our if-chain. "
   ],
   "metadata": {
    "collapsed": false
   },
   "id": "1331ce4e83ce83d0"
  },
  {
   "cell_type": "code",
   "execution_count": 3,
   "outputs": [
    {
     "name": "stdout",
     "output_type": "stream",
     "text": [
      "254115617\n"
     ]
    }
   ],
   "source": [
    "card_value = {\n",
    "    \"2\": 2,\n",
    "    \"3\": 3,\n",
    "    \"4\": 4,\n",
    "    \"5\": 5,\n",
    "    \"6\": 6,\n",
    "    \"7\": 7,\n",
    "    \"8\": 8,\n",
    "    \"9\": 9,\n",
    "    \"T\": 10,\n",
    "    \"J\": 1,\n",
    "    \"Q\": 12,\n",
    "    \"K\": 13,\n",
    "    \"A\": 14\n",
    "}\n",
    "\n",
    "\n",
    "def score_hand(hand):\n",
    "    hand_counter = Counter(\"\".join(filter(lambda x: x[0] != \"J\", hand)))\n",
    "    most_common_cards = hand_counter.most_common(2)\n",
    "\n",
    "    wildcards = len(list(filter(lambda x: x[0] == \"J\", hand)))\n",
    "\n",
    "    type_score = 0\n",
    "    if wildcards == 5 or most_common_cards[0][1] + wildcards == 5:\n",
    "        type_score = 6\n",
    "    elif most_common_cards[0][1] + wildcards == 4:\n",
    "        type_score = 5\n",
    "    elif most_common_cards[0][1] + most_common_cards[1][1] + wildcards == 5:\n",
    "        type_score = 4\n",
    "    elif most_common_cards[0][1] + wildcards == 3:\n",
    "        type_score = 3\n",
    "    elif most_common_cards[0][1] + most_common_cards[1][1] + wildcards == 4:\n",
    "        type_score = 2\n",
    "    elif most_common_cards[0][1] + wildcards == 2:\n",
    "        type_score = 1\n",
    "\n",
    "    card_score = 0\n",
    "    for i, card in enumerate(hand):\n",
    "        card_score += card_value[card] * (10 ** (8 - (i * 2)))\n",
    "\n",
    "    return type_score * (10 ** 10) + card_score\n",
    "\n",
    "\n",
    "scored_hands = []\n",
    "for row in data:\n",
    "    cards, bet = row.split(\" \")\n",
    "\n",
    "    scored_hands.append((cards, score_hand(cards), int(bet)))\n",
    "\n",
    "winnings = 0\n",
    "for rank, ranked_hand in enumerate(sorted(scored_hands, key=lambda x: x[1])):\n",
    "    winnings += (rank + 1) * ranked_hand[2]\n",
    "\n",
    "print(winnings)"
   ],
   "metadata": {
    "collapsed": false,
    "ExecuteTime": {
     "end_time": "2023-12-07T10:20:54.176959900Z",
     "start_time": "2023-12-07T10:20:54.121551600Z"
    }
   },
   "id": "940683a993d04a2a"
  }
 ],
 "metadata": {
  "kernelspec": {
   "display_name": "Python 3",
   "language": "python",
   "name": "python3"
  },
  "language_info": {
   "codemirror_mode": {
    "name": "ipython",
    "version": 2
   },
   "file_extension": ".py",
   "mimetype": "text/x-python",
   "name": "python",
   "nbconvert_exporter": "python",
   "pygments_lexer": "ipython2",
   "version": "2.7.6"
  }
 },
 "nbformat": 4,
 "nbformat_minor": 5
}
