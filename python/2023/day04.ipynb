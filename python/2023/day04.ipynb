{
 "cells": [
  {
   "cell_type": "markdown",
   "metadata": {},
   "source": [
    "# Day 04: Scratchcards"
   ]
  },
  {
   "cell_type": "markdown",
   "metadata": {},
   "source": [
    "## Setup"
   ]
  },
  {
   "cell_type": "code",
   "execution_count": 1,
   "metadata": {
    "ExecuteTime": {
     "end_time": "2023-12-04T07:52:59.155298800Z",
     "start_time": "2023-12-04T07:52:59.131916700Z"
    }
   },
   "outputs": [],
   "source": [
    "data = [line for line in open(\"./inputs/day04.txt\", \"r\").read().splitlines()]"
   ]
  },
  {
   "cell_type": "markdown",
   "metadata": {},
   "source": [
    "## Part 1\n",
    "Count the winning numbers and raise add the card score by bit-shifting 1 to the matches-1 exponent. (same as 2 to the power of matches-1)"
   ]
  },
  {
   "cell_type": "code",
   "execution_count": 2,
   "outputs": [
    {
     "name": "stdout",
     "output_type": "stream",
     "text": [
      "21919\n"
     ]
    }
   ],
   "source": [
    "total_points = 0\n",
    "\n",
    "for row in data:\n",
    "    _, cards = row.split(\": \")\n",
    "    winning_card, my_card = cards.split(\"| \")\n",
    "\n",
    "    winning_numbers = [int(n) for n in winning_card.split(\" \") if n]\n",
    "    my_numbers = [int(n) for n in my_card.split(\" \") if n]\n",
    "\n",
    "    matches = sum([m in winning_numbers for m in my_numbers])\n",
    "\n",
    "    if matches:\n",
    "        total_points += 1 << matches - 1\n",
    "\n",
    "print(total_points)"
   ],
   "metadata": {
    "collapsed": false,
    "ExecuteTime": {
     "end_time": "2023-12-04T07:52:59.155298800Z",
     "start_time": "2023-12-04T07:52:59.142518100Z"
    }
   }
  },
  {
   "cell_type": "markdown",
   "metadata": {},
   "source": [
    "## Part 2\n",
    "Instead of scoring points, we're pushing card count down the iteration. For each win, use a dictionary to set or update that particular card_id's bonus cards. When we get to that card, we're checking the dictionary how many instances of it that we have and using it to count wins."
   ]
  },
  {
   "cell_type": "code",
   "execution_count": 3,
   "metadata": {
    "ExecuteTime": {
     "end_time": "2023-12-04T07:52:59.169970600Z",
     "start_time": "2023-12-04T07:52:59.154299300Z"
    }
   },
   "outputs": [
    {
     "name": "stdout",
     "output_type": "stream",
     "text": [
      "9881048\n"
     ]
    }
   ],
   "source": [
    "total_cards = 0\n",
    "wins = {}\n",
    "\n",
    "for row in data:\n",
    "    card_name, cards = row.split(\": \")\n",
    "    card_id = int(card_name.split(\" \")[-1])\n",
    "    winning_card, my_card = cards.split(\"| \")\n",
    "\n",
    "    winning_numbers = [int(n) for n in winning_card.split(\" \") if n]\n",
    "    my_numbers = [int(n) for n in my_card.split(\" \") if n]\n",
    "\n",
    "    cards = 1\n",
    "    if card_id in wins:\n",
    "        cards += wins[card_id]\n",
    "\n",
    "    matches = sum([m in winning_numbers for m in my_numbers])\n",
    "    for i in range(matches):\n",
    "        winning_card_id = card_id + i + 1\n",
    "        \n",
    "        if winning_card_id in wins:\n",
    "            wins[winning_card_id] += cards\n",
    "        else:\n",
    "            wins[winning_card_id] = cards\n",
    "\n",
    "    total_cards += cards\n",
    "\n",
    "print(total_cards)"
   ]
  }
 ],
 "metadata": {
  "kernelspec": {
   "display_name": "Python 3.10.3 64-bit",
   "language": "python",
   "name": "python3"
  },
  "language_info": {
   "codemirror_mode": {
    "name": "ipython",
    "version": 3
   },
   "file_extension": ".py",
   "mimetype": "text/x-python",
   "name": "python",
   "nbconvert_exporter": "python",
   "pygments_lexer": "ipython3",
   "version": "3.10.3"
  },
  "orig_nbformat": 4,
  "vscode": {
   "interpreter": {
    "hash": "d3b76649bff34fbd56b443403a4f51b68d358ac0109e87eef96f1b070706b26a"
   }
  }
 },
 "nbformat": 4,
 "nbformat_minor": 2
}
