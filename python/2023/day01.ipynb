{
 "cells": [
  {
   "cell_type": "markdown",
   "metadata": {},
   "source": [
    "# Day 01: Trebuchet?!"
   ]
  },
  {
   "cell_type": "markdown",
   "metadata": {},
   "source": [
    "## Setup"
   ]
  },
  {
   "cell_type": "code",
   "execution_count": 1,
   "metadata": {
    "ExecuteTime": {
     "end_time": "2023-12-01T08:35:57.521812Z",
     "start_time": "2023-12-01T08:35:57.517511200Z"
    }
   },
   "outputs": [],
   "source": [
    "data = [line for line in open(\"./inputs/day01.txt\", \"r\").read().splitlines()]"
   ]
  },
  {
   "cell_type": "markdown",
   "metadata": {},
   "source": [
    "## Part 1\n",
    "Get numeric positions for each row, concatenate the first and last occurrence and turn it into an int."
   ]
  },
  {
   "cell_type": "code",
   "execution_count": 2,
   "metadata": {
    "ExecuteTime": {
     "end_time": "2023-12-01T08:35:57.588105300Z",
     "start_time": "2023-12-01T08:35:57.525911800Z"
    }
   },
   "outputs": [
    {
     "name": "stdout",
     "output_type": "stream",
     "text": [
      "55971\n"
     ]
    }
   ],
   "source": [
    "numbers = []\n",
    "\n",
    "for row in data:\n",
    "    hits = [i for i, c in enumerate(row) if c.isnumeric()]\n",
    "\n",
    "    numbers.append(int(row[min(hits)] + row[max(hits)]))\n",
    "\n",
    "print(sum(numbers))"
   ]
  },
  {
   "cell_type": "markdown",
   "metadata": {},
   "source": [
    "## Part 2\n",
    "Replace isnumeric call with custom function that returns a list with both the position and the actual value.\n",
    "\n",
    "The **ends_with_number** function retrieves the string up until the current index. Checks if it ends with a number, albeit a digit or a word. If it's a match, the position and the digit is returned (in string form, since we're concatenating the first and last occurrence)."
   ]
  },
  {
   "cell_type": "code",
   "execution_count": 3,
   "metadata": {
    "ExecuteTime": {
     "end_time": "2023-12-01T08:35:57.706516Z",
     "start_time": "2023-12-01T08:35:57.588105300Z"
    }
   },
   "outputs": [
    {
     "name": "stdout",
     "output_type": "stream",
     "text": [
      "54719\n"
     ]
    }
   ],
   "source": [
    "def ends_with_number(current_row):\n",
    "    pos = len(current_row) - 1\n",
    "\n",
    "    if current_row[-1:].isnumeric():\n",
    "        return [pos - 1, current_row[-1:]]\n",
    "\n",
    "    number_words = {\n",
    "        \"one\": \"1\",\n",
    "        \"two\": \"2\",\n",
    "        \"three\": \"3\",\n",
    "        \"four\": \"4\",\n",
    "        \"five\": \"5\",\n",
    "        \"six\": \"6\",\n",
    "        \"seven\": \"7\",\n",
    "        \"eight\": \"8\",\n",
    "        \"nine\": \"9\",\n",
    "    }\n",
    "\n",
    "    for word_length in (3, 4, 5):\n",
    "        if len(current_row) >= word_length and current_row[-word_length:] in number_words:\n",
    "            return [pos - word_length, number_words[current_row[-word_length:]]]\n",
    "\n",
    "\n",
    "numbers = []\n",
    "\n",
    "for row in data:\n",
    "    hits = dict([ends_with_number(row[:i]) for i in range(1, len(row) + 1) if ends_with_number(row[:i])])\n",
    "    \n",
    "    numbers.append(int(hits[min(hits)] + hits[max(hits)]))\n",
    "\n",
    "print(sum(numbers))"
   ]
  },
  {
   "cell_type": "markdown",
   "source": [],
   "metadata": {
    "collapsed": false
   }
  }
 ],
 "metadata": {
  "kernelspec": {
   "display_name": "Python 3.10.3 64-bit",
   "language": "python",
   "name": "python3"
  },
  "language_info": {
   "codemirror_mode": {
    "name": "ipython",
    "version": 3
   },
   "file_extension": ".py",
   "mimetype": "text/x-python",
   "name": "python",
   "nbconvert_exporter": "python",
   "pygments_lexer": "ipython3",
   "version": "3.10.3"
  },
  "orig_nbformat": 4,
  "vscode": {
   "interpreter": {
    "hash": "d3b76649bff34fbd56b443403a4f51b68d358ac0109e87eef96f1b070706b26a"
   }
  }
 },
 "nbformat": 4,
 "nbformat_minor": 2
}
