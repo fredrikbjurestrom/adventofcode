{
 "cells": [
  {
   "cell_type": "markdown",
   "metadata": {},
   "source": [
    "# Day 02: Cube Conundrum"
   ]
  },
  {
   "cell_type": "markdown",
   "metadata": {},
   "source": [
    "## Setup"
   ]
  },
  {
   "cell_type": "code",
   "execution_count": 1,
   "metadata": {
    "ExecuteTime": {
     "end_time": "2023-12-02T08:09:54.575209500Z",
     "start_time": "2023-12-02T08:09:54.559323300Z"
    }
   },
   "outputs": [],
   "source": [
    "data = [line for line in open(\"./inputs/day02.txt\", \"r\").read().splitlines()]"
   ]
  },
  {
   "cell_type": "markdown",
   "metadata": {},
   "source": [
    "## Part 1\n",
    "Just parse the rows and check if game is below limit."
   ]
  },
  {
   "cell_type": "code",
   "execution_count": 2,
   "outputs": [
    {
     "name": "stdout",
     "output_type": "stream",
     "text": [
      "1931\n"
     ]
    }
   ],
   "source": [
    "limit = {\n",
    "    \"red\": 12,\n",
    "    \"green\": 13,\n",
    "    \"blue\": 14\n",
    "}\n",
    "valid_games = []\n",
    "\n",
    "for row in data:\n",
    "    valid = True\n",
    "    game, details = row.split(\": \")\n",
    "    game_id = int(game.split(\" \")[1])\n",
    "\n",
    "    for grabs in details.split(\"; \"):\n",
    "        for grab in grabs.split(\", \"):\n",
    "            qty, color = grab.split(\" \")\n",
    "            if int(qty) > limit[color]:\n",
    "                valid = False\n",
    "\n",
    "    if valid:\n",
    "        valid_games.append(game_id)\n",
    "\n",
    "print(sum(valid_games))"
   ],
   "metadata": {
    "collapsed": false,
    "ExecuteTime": {
     "end_time": "2023-12-02T08:09:54.655784Z",
     "start_time": "2023-12-02T08:09:54.575209500Z"
    }
   }
  },
  {
   "cell_type": "markdown",
   "metadata": {},
   "source": [
    "## Part 2\n",
    "Move limit dict inside row loop and repurpose it to store max seen value"
   ]
  },
  {
   "cell_type": "code",
   "execution_count": 3,
   "metadata": {
    "ExecuteTime": {
     "end_time": "2023-12-02T08:09:54.736178500Z",
     "start_time": "2023-12-02T08:09:54.655784Z"
    }
   },
   "outputs": [
    {
     "name": "stdout",
     "output_type": "stream",
     "text": [
      "83105\n"
     ]
    }
   ],
   "source": [
    "game_powers = []\n",
    "\n",
    "for row in data:\n",
    "    _, details = row.split(\": \")\n",
    "\n",
    "    min_scores = {\n",
    "        \"red\": 0,\n",
    "        \"green\": 0,\n",
    "        \"blue\": 0\n",
    "    }\n",
    "\n",
    "    for grabs in details.split(\"; \"):\n",
    "        for grab in grabs.split(\", \"):\n",
    "            qty, color = grab.split(\" \")\n",
    "            if int(qty) > min_scores[color]:\n",
    "                min_scores[color] = int(qty)\n",
    "\n",
    "    game_powers.append(min_scores[\"red\"] * min_scores[\"green\"] * min_scores[\"blue\"])\n",
    "\n",
    "print(sum(game_powers))"
   ]
  },
  {
   "cell_type": "markdown",
   "source": [],
   "metadata": {
    "collapsed": false
   }
  }
 ],
 "metadata": {
  "kernelspec": {
   "display_name": "Python 3.10.3 64-bit",
   "language": "python",
   "name": "python3"
  },
  "language_info": {
   "codemirror_mode": {
    "name": "ipython",
    "version": 3
   },
   "file_extension": ".py",
   "mimetype": "text/x-python",
   "name": "python",
   "nbconvert_exporter": "python",
   "pygments_lexer": "ipython3",
   "version": "3.10.3"
  },
  "orig_nbformat": 4,
  "vscode": {
   "interpreter": {
    "hash": "d3b76649bff34fbd56b443403a4f51b68d358ac0109e87eef96f1b070706b26a"
   }
  }
 },
 "nbformat": 4,
 "nbformat_minor": 2
}
