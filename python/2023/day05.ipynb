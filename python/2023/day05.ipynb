{
 "cells": [
  {
   "cell_type": "markdown",
   "metadata": {},
   "source": [
    "# Day 05: If You Give A Seed A Fertilizer"
   ]
  },
  {
   "cell_type": "markdown",
   "metadata": {},
   "source": [
    "## Setup"
   ]
  },
  {
   "cell_type": "code",
   "execution_count": 1,
   "metadata": {
    "ExecuteTime": {
     "end_time": "2023-12-05T15:37:33.184932200Z",
     "start_time": "2023-12-05T15:37:33.151996200Z"
    }
   },
   "outputs": [],
   "source": [
    "import sys\n",
    "\n",
    "data = [line for line in open(\"./inputs/day05.txt\", \"r\").read().splitlines()]"
   ]
  },
  {
   "cell_type": "markdown",
   "metadata": {},
   "source": [
    "## Part 1\n",
    "First, get all the seeds (starting number), then iterate through all the maps and save the lowest mapped number. Name of the map is saved to ensure that map can't occur more than once."
   ]
  },
  {
   "cell_type": "code",
   "execution_count": 2,
   "outputs": [
    {
     "name": "stdout",
     "output_type": "stream",
     "text": [
      "177942185\n"
     ]
    }
   ],
   "source": [
    "seeds = [int(seed) for seed in data[0].split(': ')[1].split(\" \")]\n",
    "\n",
    "min_result = sys.maxsize\n",
    "\n",
    "for seed in seeds:\n",
    "    map_name = \"\"\n",
    "    performed_maps = set()\n",
    "\n",
    "    for i in range(2, len(data)):\n",
    "        if len(data[i]) == 0:\n",
    "            continue\n",
    "\n",
    "        if not data[i][0].isnumeric():\n",
    "            map_name = data[i]\n",
    "            continue\n",
    "\n",
    "        if map_name in performed_maps:\n",
    "            continue\n",
    "\n",
    "        destination, source, range_length = [int(n) for n in data[i].split(\" \")]\n",
    "\n",
    "        if seed in range(source, source + range_length):\n",
    "            performed_maps.add(map_name)\n",
    "            seed += (destination - source)\n",
    "\n",
    "    if seed < min_result:\n",
    "        min_result = seed\n",
    "\n",
    "print(min_result)"
   ],
   "metadata": {
    "collapsed": false,
    "ExecuteTime": {
     "end_time": "2023-12-05T15:37:35.687130200Z",
     "start_time": "2023-12-05T15:37:35.653628600Z"
    }
   }
  },
  {
   "cell_type": "markdown",
   "metadata": {},
   "source": [
    "## Part 2\n",
    "Let's flip this shit around"
   ]
  },
  {
   "cell_type": "code",
   "execution_count": null,
   "metadata": {
    "is_executing": true,
    "ExecuteTime": {
     "start_time": "2023-12-05T15:38:00.424253900Z"
    }
   },
   "outputs": [],
   "source": [
    "seed_ranges = []\n",
    "mappings = []\n",
    "\n",
    "map_name = \"\"\n",
    "map_index = -1\n",
    "map_ranges = []\n",
    "for i in range(len(data)):\n",
    "    if i == 0:\n",
    "        seed_input = [int(seed) for seed in data[0].split(': ')[1].split(\" \")]\n",
    "        for s, seed in enumerate(seed_input):\n",
    "            if s % 2 == 0:\n",
    "                seed_ranges.append(range(seed, seed + seed_input[s + 1]))\n",
    "\n",
    "        continue\n",
    "\n",
    "    if len(data[i]) == 0:\n",
    "        continue\n",
    "\n",
    "    if not data[i][0].isnumeric():\n",
    "        map_name = data[i]\n",
    "        map_index += 1\n",
    "\n",
    "        if map_index < 1:\n",
    "            continue\n",
    "\n",
    "        mappings.insert(map_index, map_ranges)\n",
    "        map_ranges = []\n",
    "\n",
    "        continue\n",
    "\n",
    "    destination, source, range_length = [int(n) for n in data[i].split(\" \")]\n",
    "    map_ranges.append([map_name, set(range(source, source + range_length)), destination - source])\n",
    "\n",
    "mappings.insert(map_index, map_ranges)\n",
    "print(mappings)\n",
    "min_result = sys.maxsize\n",
    "# \n",
    "# for seed_range in seed_ranges:\n",
    "#     queue = [[seed_range]]\n",
    "# \n",
    "#     for map_id, mapping in enumerate(mappings):\n",
    "#         while len(queue[map_id]) > 0:\n",
    "# \n",
    "#             seed = queue[map_id].pop()\n",
    "# \n",
    "#             next_map_id = map_id + 1\n",
    "#             for mapping_name, mapping_range, offset in mapping:\n",
    "#                 intersection = mapping_range.intersection(seed)\n",
    "#                 if intersection:\n",
    "#                     # print(\"queuing\", next_map_id, range(min(intersection) + offset, max(intersection) + offset), \"from\", seed, \"with offset\", offset, mapping_name)\n",
    "# \n",
    "#                     if len(queue) <= next_map_id:\n",
    "#                         queue.insert(next_map_id, [range(min(intersection) + offset, max(intersection) + offset)])\n",
    "#                     else:\n",
    "#                         queue[next_map_id].append(range(min(intersection) + offset, max(intersection) + offset))\n",
    "# \n",
    "#             if len(queue) <= next_map_id:\n",
    "#                 queue.insert(next_map_id, [seed])\n",
    "# \n",
    "#     min_seed = min([seed.start for seed in queue[7]])\n",
    "#     if min_seed < min_result:\n",
    "#         min_result = min_seed\n",
    "\n",
    "print(min_result)"
   ]
  }
 ],
 "metadata": {
  "kernelspec": {
   "display_name": "Python 3.10.3 64-bit",
   "language": "python",
   "name": "python3"
  },
  "language_info": {
   "codemirror_mode": {
    "name": "ipython",
    "version": 3
   },
   "file_extension": ".py",
   "mimetype": "text/x-python",
   "name": "python",
   "nbconvert_exporter": "python",
   "pygments_lexer": "ipython3",
   "version": "3.10.3"
  },
  "orig_nbformat": 4,
  "vscode": {
   "interpreter": {
    "hash": "d3b76649bff34fbd56b443403a4f51b68d358ac0109e87eef96f1b070706b26a"
   }
  }
 },
 "nbformat": 4,
 "nbformat_minor": 2
}
