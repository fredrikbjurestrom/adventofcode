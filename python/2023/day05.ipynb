{
 "cells": [
  {
   "cell_type": "markdown",
   "metadata": {},
   "source": [
    "# Day 05: If You Give A Seed A Fertilizer"
   ]
  },
  {
   "cell_type": "markdown",
   "metadata": {},
   "source": [
    "## Setup"
   ]
  },
  {
   "cell_type": "code",
   "execution_count": 1,
   "metadata": {
    "ExecuteTime": {
     "end_time": "2023-12-05T22:44:17.402436500Z",
     "start_time": "2023-12-05T22:44:17.386087200Z"
    }
   },
   "outputs": [],
   "source": [
    "import sys\n",
    "\n",
    "data = [line for line in open(\"./inputs/day05.txt\", \"r\").read().splitlines()]"
   ]
  },
  {
   "cell_type": "markdown",
   "metadata": {},
   "source": [
    "## Part 1\n",
    "First, get all the seeds (starting number), then iterate through all the maps and save the lowest mapped number. Name of the map is saved to ensure that map can't occur more than once."
   ]
  },
  {
   "cell_type": "code",
   "execution_count": 2,
   "outputs": [
    {
     "name": "stdout",
     "output_type": "stream",
     "text": [
      "177942185\n"
     ]
    }
   ],
   "source": [
    "seeds = [int(seed) for seed in data[0].split(': ')[1].split(\" \")]\n",
    "\n",
    "min_result = sys.maxsize\n",
    "\n",
    "for seed in seeds:\n",
    "    map_name = \"\"\n",
    "    performed_maps = set()\n",
    "\n",
    "    for i in range(2, len(data)):\n",
    "        if len(data[i]) == 0:\n",
    "            continue\n",
    "\n",
    "        if not data[i][0].isnumeric():\n",
    "            map_name = data[i]\n",
    "            continue\n",
    "\n",
    "        if map_name in performed_maps:\n",
    "            continue\n",
    "\n",
    "        destination, source, range_length = [int(n) for n in data[i].split(\" \")]\n",
    "\n",
    "        if seed in range(source, source + range_length):\n",
    "            performed_maps.add(map_name)\n",
    "            seed += (destination - source)\n",
    "\n",
    "    if seed < min_result:\n",
    "        min_result = seed\n",
    "\n",
    "print(min_result)"
   ],
   "metadata": {
    "collapsed": false,
    "ExecuteTime": {
     "end_time": "2023-12-05T22:44:17.535980200Z",
     "start_time": "2023-12-05T22:44:17.396384400Z"
    }
   }
  },
  {
   "cell_type": "markdown",
   "metadata": {},
   "source": [
    "## Part 2\n",
    "Let's flip this shit around"
   ]
  },
  {
   "cell_type": "code",
   "execution_count": 3,
   "metadata": {
    "ExecuteTime": {
     "end_time": "2023-12-05T22:44:17.768674500Z",
     "start_time": "2023-12-05T22:44:17.540984900Z"
    }
   },
   "outputs": [
    {
     "name": "stdout",
     "output_type": "stream",
     "text": [
      "7921916\n"
     ]
    }
   ],
   "source": [
    "seeds = []\n",
    "mappings = []\n",
    "\n",
    "map_index = -1\n",
    "for i in range(len(data)):\n",
    "    if i == 0:\n",
    "        seed_input = [int(seed) for seed in data[0].split(': ')[1].split(\" \")]\n",
    "        for s, seed in enumerate(seed_input):\n",
    "            if s % 2 == 0:\n",
    "                seeds.append([seed, seed + seed_input[s + 1] - 1])\n",
    "        continue\n",
    "\n",
    "    if len(data[i]) == 0:\n",
    "        continue\n",
    "\n",
    "    if not data[i][0].isnumeric():\n",
    "        map_index += 1\n",
    "        continue\n",
    "\n",
    "    destination, source, range_length = [int(n) for n in data[i].split(\" \")]\n",
    "\n",
    "    if len(mappings) < map_index + 1:\n",
    "        mappings.insert(map_index, [[source, source + range_length - 1, destination - source]])\n",
    "    else:\n",
    "        mappings[map_index].append([source, source + range_length - 1, destination - source])\n",
    "\n",
    "\n",
    "def split_range(seed_range, mapping_ranges):\n",
    "    seed_start, seed_end = seed_range\n",
    "    # print(\"seed\", seed_start, seed_end, mapping_ranges)\n",
    "\n",
    "    mapped_ranges = []\n",
    "    for mapping_start, mapping_end, offset in mapping_ranges:\n",
    "\n",
    "        # mapping covers completely\n",
    "        if mapping_start <= seed_start and mapping_end >= seed_end:\n",
    "            mapped_ranges.append([seed_start, seed_end, offset])\n",
    "        # seed touches start of mapping\n",
    "        elif seed_start <= mapping_start <= seed_end:\n",
    "            # mapping covers end of seed\n",
    "            if mapping_end >= seed_end:\n",
    "                mapped_ranges.append([mapping_start, seed_end, offset])\n",
    "            else:\n",
    "                mapped_ranges.append([mapping_start, mapping_end, offset])\n",
    "        # seed touches end of mapping\n",
    "        elif mapping_start < seed_start <= mapping_end:\n",
    "            mapped_ranges.append([seed_start, mapping_end, offset])\n",
    "\n",
    "    unmapped_start = seed_start\n",
    "    unmapped_ranges = []\n",
    "    for mapped_start, mapped_end, _ in sorted(mapped_ranges, key=lambda x: x[0]):\n",
    "        if unmapped_start < mapped_start:\n",
    "            unmapped_ranges.append([unmapped_start, mapped_start - 1])\n",
    "            unmapped_start = mapped_start\n",
    "        elif seed_end > mapped_end:\n",
    "            unmapped_ranges.append([mapped_end + 1, seed_end])\n",
    "            unmapped_start = seed_end\n",
    "\n",
    "    if not mapped_ranges:\n",
    "        unmapped_ranges.append([seed_start, seed_end])\n",
    "\n",
    "    # print(\"returning\", [*[[start + off, end + off] for start, end, off in mapped_ranges], *unmapped_ranges])\n",
    "    return [*[[start + off, end + off] for start, end, off in mapped_ranges], *unmapped_ranges]\n",
    "\n",
    "\n",
    "min_result = sys.maxsize\n",
    "\n",
    "\n",
    "for seed in seeds:\n",
    "    queue = [[seed]]\n",
    "\n",
    "    for map_id, map_ranges in enumerate(mappings):\n",
    "        while len(queue[map_id]) > 0:\n",
    "            popped_seed = queue[map_id].pop()\n",
    "            split_ranges = split_range(popped_seed, map_ranges)\n",
    "            \n",
    "            if len(queue) <= map_id + 1:\n",
    "                queue.insert(map_id+1, list(split_ranges))\n",
    "            else:\n",
    "                queue[map_id+1].extend(split_ranges)\n",
    "            \n",
    "\n",
    "    min_seed = min([seed[0] for seed in queue[7]])\n",
    "    if min_seed < min_result:\n",
    "        min_result = min_seed\n",
    "\n",
    "print(min_result)"
   ]
  }
 ],
 "metadata": {
  "kernelspec": {
   "display_name": "Python 3.10.3 64-bit",
   "language": "python",
   "name": "python3"
  },
  "language_info": {
   "codemirror_mode": {
    "name": "ipython",
    "version": 3
   },
   "file_extension": ".py",
   "mimetype": "text/x-python",
   "name": "python",
   "nbconvert_exporter": "python",
   "pygments_lexer": "ipython3",
   "version": "3.10.3"
  },
  "orig_nbformat": 4,
  "vscode": {
   "interpreter": {
    "hash": "d3b76649bff34fbd56b443403a4f51b68d358ac0109e87eef96f1b070706b26a"
   }
  }
 },
 "nbformat": 4,
 "nbformat_minor": 2
}
