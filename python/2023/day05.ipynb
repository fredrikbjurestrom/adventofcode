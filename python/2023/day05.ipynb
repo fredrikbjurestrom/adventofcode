{
 "cells": [
  {
   "cell_type": "markdown",
   "metadata": {},
   "source": [
    "# Day 05: If You Give A Seed A Fertilizer"
   ]
  },
  {
   "cell_type": "markdown",
   "metadata": {},
   "source": [
    "## Setup"
   ]
  },
  {
   "cell_type": "code",
   "execution_count": 1,
   "metadata": {
    "ExecuteTime": {
     "end_time": "2023-12-07T08:08:27.874453Z",
     "start_time": "2023-12-07T08:08:27.261363200Z"
    }
   },
   "outputs": [],
   "source": [
    "import sys\n",
    "\n",
    "data = [line for line in open(\"./inputs/day05.txt\", \"r\").read().splitlines()]"
   ]
  },
  {
   "cell_type": "markdown",
   "metadata": {},
   "source": [
    "## Part 1\n",
    "First, get all the seeds (starting number), then iterate through all the maps and save the lowest mapped number. Name of the map is saved to ensure that map can't occur more than once."
   ]
  },
  {
   "cell_type": "code",
   "execution_count": 2,
   "outputs": [
    {
     "name": "stdout",
     "output_type": "stream",
     "text": [
      "177942185\n"
     ]
    }
   ],
   "source": [
    "seeds = [int(seed) for seed in data[0].split(': ')[1].split(\" \")]\n",
    "\n",
    "min_result = sys.maxsize\n",
    "\n",
    "for seed in seeds:\n",
    "    map_name = \"\"\n",
    "    performed_maps = set()\n",
    "\n",
    "    for i in range(2, len(data)):\n",
    "        if len(data[i]) == 0:\n",
    "            continue\n",
    "\n",
    "        if not data[i][0].isnumeric():\n",
    "            map_name = data[i]\n",
    "            continue\n",
    "\n",
    "        if map_name in performed_maps:\n",
    "            continue\n",
    "\n",
    "        destination, source, range_length = [int(n) for n in data[i].split(\" \")]\n",
    "\n",
    "        if seed in range(source, source + range_length):\n",
    "            performed_maps.add(map_name)\n",
    "            seed += (destination - source)\n",
    "\n",
    "    if seed < min_result:\n",
    "        min_result = seed\n",
    "\n",
    "print(min_result)"
   ],
   "metadata": {
    "collapsed": false,
    "ExecuteTime": {
     "end_time": "2023-12-07T08:08:28.243168900Z",
     "start_time": "2023-12-07T08:08:27.731593300Z"
    }
   }
  },
  {
   "cell_type": "markdown",
   "metadata": {},
   "source": [
    "## Part 2\n",
    "Let's flip this shit around"
   ]
  },
  {
   "cell_type": "code",
   "execution_count": 3,
   "metadata": {
    "ExecuteTime": {
     "end_time": "2023-12-07T08:08:28.564942100Z",
     "start_time": "2023-12-07T08:08:28.072284800Z"
    }
   },
   "outputs": [
    {
     "name": "stdout",
     "output_type": "stream",
     "text": [
      "7921916\n"
     ]
    }
   ],
   "source": [
    "seed_ranges = []\n",
    "mapping_ranges = []\n",
    "\n",
    "map_index = -1\n",
    "for i in range(len(data)):\n",
    "    if i == 0:\n",
    "        seed_input = [int(seed) for seed in data[0].split(': ')[1].split(\" \")]\n",
    "        for s, seed in enumerate(seed_input):\n",
    "            if s % 2 == 0:\n",
    "                seed_ranges.append(range(seed, seed + seed_input[s + 1]))\n",
    "        continue\n",
    "\n",
    "    if len(data[i]) == 0:\n",
    "        continue\n",
    "\n",
    "    if not data[i][0].isnumeric():\n",
    "        map_index += 1\n",
    "        continue\n",
    "\n",
    "    destination, source, range_length = [int(n) for n in data[i].split(\" \")]\n",
    "\n",
    "    if len(mapping_ranges) < map_index + 1:\n",
    "        mapping_ranges.insert(map_index, [(range(source, source + range_length), destination - source)])\n",
    "    else:\n",
    "        mapping_ranges[map_index].append((range(source, source + range_length), destination - source))\n",
    "\n",
    "\n",
    "def split_range(seed_range, map_ranges):\n",
    "    # print(\"seed\", seed_range, map_ranges)\n",
    "\n",
    "    mapped_ranges = []\n",
    "    for map_range, offset in map_ranges:\n",
    "        # mapping covers seed completely\n",
    "        if map_range.start <= seed_range.start and map_range.stop >= seed_range.stop:\n",
    "            # print(\"mapping covers seed completely\", map_range)\n",
    "            mapped_ranges.append((seed_range, offset))\n",
    "        # seed covers mapping completely\n",
    "        elif seed_range.start <= map_range.start and seed_range.stop >= map_range.stop:\n",
    "            # print(\"seed covers mapping completely\", map_range)\n",
    "            mapped_ranges.append((map_range, offset))\n",
    "        # seed touches start of mapping\n",
    "        elif seed_range.start <= map_range.start < seed_range.stop:\n",
    "            # print(\"seed touches start of mapping\", map_range)\n",
    "            mapped_ranges.append((range(map_range.start, seed_range.stop), offset))\n",
    "        # seed touches end of mapping\n",
    "        elif map_range.start <= seed_range.start < map_range.stop:\n",
    "            # print(\"seed touches end of mapping\", map_range)\n",
    "            mapped_ranges.append((range(seed_range.start, map_range.stop), offset))\n",
    "\n",
    "    unmapped_ranges = []\n",
    "    cur_pos = seed_range.start\n",
    "    for mapped_range, _ in sorted(mapped_ranges, key=lambda x: x[0].start):\n",
    "        if cur_pos < mapped_range.start:\n",
    "            unmapped_ranges.append(range(cur_pos, mapped_range.start))\n",
    "            cur_pos = mapped_range.stop\n",
    "        elif seed_range.stop > mapped_range.stop:\n",
    "            unmapped_ranges.append(range(mapped_range.stop, seed_range.stop))\n",
    "            cur_pos = seed_range.stop\n",
    "\n",
    "    if not mapped_ranges:\n",
    "        unmapped_ranges.append(seed_range)\n",
    "\n",
    "    # print(\"returning\",\n",
    "    #       [*[range(mapped_range.start + off, mapped_range.stop + off) for mapped_range, off in mapped_ranges],\n",
    "    #        *unmapped_ranges])\n",
    "    return [*[range(mapped_range.start + off, mapped_range.stop + off) for mapped_range, off in mapped_ranges],\n",
    "            *unmapped_ranges]\n",
    "\n",
    "\n",
    "min_result = sys.maxsize\n",
    "\n",
    "\n",
    "for seed in seed_ranges:\n",
    "    queue = [[seed]]\n",
    "\n",
    "    for map_id, mapping_range in enumerate(mapping_ranges):\n",
    "        while len(queue[map_id]) > 0:\n",
    "            cur_seed = queue[map_id].pop()\n",
    "            split_ranges = split_range(cur_seed, mapping_range)\n",
    "            \n",
    "            if len(queue) <= map_id + 1:\n",
    "                queue.insert(map_id+1, list(split_ranges))\n",
    "            else:\n",
    "                queue[map_id+1].extend(split_ranges)\n",
    "            \n",
    "\n",
    "    # print(queue[-1])\n",
    "    min_seed = min([seed[0] for seed in queue[-1]])\n",
    "    if min_seed < min_result:\n",
    "        min_result = min_seed\n",
    "        \n",
    "\n",
    "print(min_result)"
   ]
  }
 ],
 "metadata": {
  "kernelspec": {
   "display_name": "Python 3.10.3 64-bit",
   "language": "python",
   "name": "python3"
  },
  "language_info": {
   "codemirror_mode": {
    "name": "ipython",
    "version": 3
   },
   "file_extension": ".py",
   "mimetype": "text/x-python",
   "name": "python",
   "nbconvert_exporter": "python",
   "pygments_lexer": "ipython3",
   "version": "3.10.3"
  },
  "orig_nbformat": 4,
  "vscode": {
   "interpreter": {
    "hash": "d3b76649bff34fbd56b443403a4f51b68d358ac0109e87eef96f1b070706b26a"
   }
  }
 },
 "nbformat": 4,
 "nbformat_minor": 2
}
