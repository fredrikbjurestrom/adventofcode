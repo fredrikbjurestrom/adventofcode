{
 "cells": [
  {
   "cell_type": "markdown",
   "metadata": {
    "collapsed": false
   },
   "source": [
    "# Day 1: Sonar Sweep\n",
    "\n",
    "* [AoC Day 01](https://adventofcode.com/2021/day/1)"
   ]
  },
  {
   "cell_type": "markdown",
   "metadata": {},
   "source": [
    "## Setup"
   ]
  },
  {
   "cell_type": "code",
   "execution_count": 7,
   "metadata": {},
   "outputs": [],
   "source": [
    "data = [int(r) for r in open(\"./inputs/day01.txt\", \"r\").read().splitlines()]"
   ]
  },
  {
   "cell_type": "markdown",
   "metadata": {
    "collapsed": false
   },
   "source": [
    "## Part 1\n",
    "Counting the increments"
   ]
  },
  {
   "cell_type": "code",
   "execution_count": 8,
   "metadata": {
    "collapsed": false
   },
   "outputs": [
    {
     "name": "stdout",
     "output_type": "stream",
     "text": [
      "Part 1:  1184\n"
     ]
    }
   ],
   "source": [
    "p1 = 0\n",
    "for i in range(1, len(data)):\n",
    "    if data[i] > data[i-1]:\n",
    "        p1 += 1\n",
    "\n",
    "print(\"Part 1: \", p1)"
   ]
  },
  {
   "cell_type": "markdown",
   "metadata": {
    "collapsed": false
   },
   "source": [
    "## Part 2\n",
    "Sliding window"
   ]
  },
  {
   "cell_type": "code",
   "execution_count": 9,
   "metadata": {
    "collapsed": false
   },
   "outputs": [
    {
     "name": "stdout",
     "output_type": "stream",
     "text": [
      "Part 2:  1158\n"
     ]
    }
   ],
   "source": [
    "p2 = 0\n",
    "for i in range(1, len(data)):\n",
    "    prev = data[i-3:i]\n",
    "    cur = data[i-2:i+1]\n",
    "\n",
    "    if len(prev) > 0 and sum(prev) < sum(cur):\n",
    "        p2 += 1\n",
    "\n",
    "print(\"Part 2: \", p2)"
   ]
  }
 ],
 "metadata": {
  "kernelspec": {
   "display_name": "Python 3.10.3 64-bit",
   "language": "python",
   "name": "python3"
  },
  "language_info": {
   "codemirror_mode": {
    "name": "ipython",
    "version": 3
   },
   "file_extension": ".py",
   "mimetype": "text/x-python",
   "name": "python",
   "nbconvert_exporter": "python",
   "pygments_lexer": "ipython3",
   "version": "3.10.3"
  },
  "vscode": {
   "interpreter": {
    "hash": "d3b76649bff34fbd56b443403a4f51b68d358ac0109e87eef96f1b070706b26a"
   }
  }
 },
 "nbformat": 4,
 "nbformat_minor": 0
}
