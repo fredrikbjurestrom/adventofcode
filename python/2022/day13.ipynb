{
 "cells": [
  {
   "attachments": {},
   "cell_type": "markdown",
   "metadata": {},
   "source": [
    "# Day 13: Distress Signal"
   ]
  },
  {
   "attachments": {},
   "cell_type": "markdown",
   "metadata": {},
   "source": [
    "## Setup"
   ]
  },
  {
   "cell_type": "code",
   "execution_count": 1,
   "metadata": {},
   "outputs": [],
   "source": [
    "data = [line for line in open(\"./inputs/day13.txt\", \"r\").read().splitlines()]"
   ]
  },
  {
   "attachments": {},
   "cell_type": "markdown",
   "metadata": {},
   "source": [
    "## Helpers\n",
    "Parsing is a bit sloppy. Skip empty lines, if uneven index save value in 'pre', otherwise append this value along with pre<br>\n",
    "<br>\n",
    "Compare returns regular -1, 0, 1 if both a and b are integers.<br>\n",
    "(This is unchanged from part 1, yay me :))<br>\n",
    "<br>\n",
    "If both a and b are lists, check lengths otherwise recursive calls on children.<br>\n",
    "<br>\n",
    "If one item is list and the other is int, recursive call casting the int one as [int]<br>"
   ]
  },
  {
   "cell_type": "code",
   "execution_count": 2,
   "metadata": {},
   "outputs": [],
   "source": [
    "def parse():\n",
    "  pairs = []\n",
    "  pre = ''\n",
    "\n",
    "  i = 0\n",
    "  for l in data:\n",
    "    if l == '':\n",
    "      continue\n",
    "    i += 1\n",
    "\n",
    "    if i % 2 == 1:\n",
    "      pre = l\n",
    "    else:\n",
    "      pairs.append([eval(pre), eval(l)])\n",
    "  \n",
    "  return pairs\n",
    "\n",
    "\n",
    "def compare(a, b):\n",
    "  if isinstance(a, int) and isinstance(b, int):\n",
    "    return -1 if a < b else 1 if b < a else 0\n",
    "\n",
    "  elif isinstance(a, list) and isinstance(b, list):\n",
    "    if not len(a) and not len(b):\n",
    "      return 0\n",
    "    elif not len(a):\n",
    "      return -1\n",
    "    elif not len(b):\n",
    "      return 1\n",
    "\n",
    "    for l, r in zip(a, b):\n",
    "      if s := compare(l, r):\n",
    "        return s\n",
    "\n",
    "    if len(b) < len(a):\n",
    "      return 1\n",
    "\n",
    "    return -1\n",
    "\n",
    "  else:\n",
    "    return compare(a, [b]) if isinstance(a, list) else compare([a], b)\n"
   ]
  },
  {
   "attachments": {},
   "cell_type": "markdown",
   "metadata": {},
   "source": [
    "## Part 1\n",
    "Find indices where sorting is correct"
   ]
  },
  {
   "cell_type": "code",
   "execution_count": 3,
   "metadata": {},
   "outputs": [
    {
     "name": "stdout",
     "output_type": "stream",
     "text": [
      "4734\n"
     ]
    }
   ],
   "source": [
    "pairs = parse()\n",
    "\n",
    "part1 = 0\n",
    "for i in range(1,len(pairs)):\n",
    "  if compare(*pairs[i-1]) != 1:\n",
    "    part1 += i\n",
    "\n",
    "print(part1)"
   ]
  },
  {
   "attachments": {},
   "cell_type": "markdown",
   "metadata": {},
   "source": [
    "## Part 2\n",
    "Flatten pairs array, append the \"divider package\". Use the same compare function as sort input"
   ]
  },
  {
   "cell_type": "code",
   "execution_count": 4,
   "metadata": {},
   "outputs": [
    {
     "name": "stdout",
     "output_type": "stream",
     "text": [
      "21836\n"
     ]
    }
   ],
   "source": [
    "import functools\n",
    "\n",
    "all_keys = [item for pair in pairs for item in pair]\n",
    "first_package = [[2]]\n",
    "second_package = [[6]]\n",
    "\n",
    "all_keys.append(first_package)\n",
    "all_keys.append(second_package)\n",
    "\n",
    "sorted_keys = sorted(all_keys, key=functools.cmp_to_key(compare))\n",
    "\n",
    "first = sorted_keys.index([[2]]) + 1\n",
    "second = sorted_keys.index([[6]]) + 1\n",
    "print(first * second)"
   ]
  }
 ],
 "metadata": {
  "kernelspec": {
   "display_name": "Python 3",
   "language": "python",
   "name": "python3"
  },
  "language_info": {
   "codemirror_mode": {
    "name": "ipython",
    "version": 3
   },
   "file_extension": ".py",
   "mimetype": "text/x-python",
   "name": "python",
   "nbconvert_exporter": "python",
   "pygments_lexer": "ipython3",
   "version": "3.10.3"
  },
  "orig_nbformat": 4,
  "vscode": {
   "interpreter": {
    "hash": "d3b76649bff34fbd56b443403a4f51b68d358ac0109e87eef96f1b070706b26a"
   }
  }
 },
 "nbformat": 4,
 "nbformat_minor": 2
}
