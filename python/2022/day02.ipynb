{
 "cells": [
  {
   "cell_type": "markdown",
   "metadata": {},
   "source": [
    "# Day 02: Rock Paper Scissors"
   ]
  },
  {
   "cell_type": "markdown",
   "metadata": {},
   "source": [
    "## Setup"
   ]
  },
  {
   "cell_type": "code",
   "execution_count": 1,
   "metadata": {},
   "outputs": [],
   "source": [
    "data = [line.split() for line in open(\"./inputs/day02.txt\", \"r\").read().splitlines()]"
   ]
  },
  {
   "cell_type": "markdown",
   "metadata": {},
   "source": [
    "### Score function\n",
    "This function decides a winner by comparing the absolute diff between two inputs.\n",
    "\n",
    "Since:\n",
    "* A Rock < B Paper\n",
    "* B Paper < C Scissors\n",
    "* C Scissors < A Rock\n",
    "\n",
    "Therefore:\n",
    "* abs(A - B) = 1 = Larger value wins\n",
    "* abs(B - C) = 1 = Larger value wins\n",
    "* abs(C - A) = 2 = Lesser value wins"
   ]
  },
  {
   "cell_type": "code",
   "execution_count": 2,
   "metadata": {},
   "outputs": [],
   "source": [
    "def score(opponent, player):\n",
    "  shapeScore = ord(player) - 64\n",
    "  match abs(ord(opponent) - ord(player)):\n",
    "    case 0:\n",
    "      return shapeScore + 3\n",
    "    case 1:\n",
    "      return shapeScore + (6 if max([opponent, player]) == player else 0)\n",
    "    case _:\n",
    "      return shapeScore + (6 if min([opponent, player]) == player else 0)"
   ]
  },
  {
   "cell_type": "markdown",
   "metadata": {},
   "source": [
    "## Part 1\n",
    "Using the reasonable translation of X Y Z -> A B C"
   ]
  },
  {
   "cell_type": "code",
   "execution_count": 3,
   "metadata": {},
   "outputs": [
    {
     "name": "stdout",
     "output_type": "stream",
     "text": [
      "13005\n"
     ]
    }
   ],
   "source": [
    "guide = {\n",
    "  'X': 'A',\n",
    "  'Y': 'B',\n",
    "  'Z': 'C'\n",
    "}\n",
    "\n",
    "print(sum([score(o, guide[p]) for (o, p) in data]))"
   ]
  },
  {
   "cell_type": "markdown",
   "metadata": {},
   "source": [
    "## Part 2\n",
    "Translating X Y Z -> Loss, Draw, Win"
   ]
  },
  {
   "cell_type": "code",
   "execution_count": 4,
   "metadata": {},
   "outputs": [
    {
     "name": "stdout",
     "output_type": "stream",
     "text": [
      "11373\n"
     ]
    }
   ],
   "source": [
    "def strategy(opponent, guide):\n",
    "  match guide:\n",
    "    case 'X':\n",
    "      return chr(ord(opponent) + 2) if opponent == 'A' else chr(ord(opponent) - 1)\n",
    "    case 'Y':\n",
    "      return opponent\n",
    "    case 'Z':\n",
    "      return chr(ord(opponent) - 2) if opponent == 'C' else chr(ord(opponent) + 1)\n",
    "\n",
    "print(sum([score(o, strategy(o, p)) for (o, p) in data]))"
   ]
  }
 ],
 "metadata": {
  "kernelspec": {
   "display_name": "Python 3.10.3 64-bit",
   "language": "python",
   "name": "python3"
  },
  "language_info": {
   "codemirror_mode": {
    "name": "ipython",
    "version": 3
   },
   "file_extension": ".py",
   "mimetype": "text/x-python",
   "name": "python",
   "nbconvert_exporter": "python",
   "pygments_lexer": "ipython3",
   "version": "3.10.3"
  },
  "orig_nbformat": 4,
  "vscode": {
   "interpreter": {
    "hash": "d3b76649bff34fbd56b443403a4f51b68d358ac0109e87eef96f1b070706b26a"
   }
  }
 },
 "nbformat": 4,
 "nbformat_minor": 2
}
