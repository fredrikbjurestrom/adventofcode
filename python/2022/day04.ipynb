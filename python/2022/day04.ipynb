{
 "cells": [
  {
   "cell_type": "markdown",
   "metadata": {},
   "source": [
    "# Day 04 Camp Cleanup"
   ]
  },
  {
   "cell_type": "markdown",
   "metadata": {},
   "source": [
    "## Setup"
   ]
  },
  {
   "cell_type": "code",
   "execution_count": 1,
   "metadata": {},
   "outputs": [],
   "source": [
    "data = [line for line in open(\"./inputs/day04.txt\", \"r\").read().splitlines()]"
   ]
  },
  {
   "cell_type": "markdown",
   "metadata": {},
   "source": [
    "## Part 1 & 2\n",
    "Grab the numbers, build set from ranges and get intersection.<br>\n",
    "Part 1 checks if intersection len is equal to either set,<br>\n",
    "part 2 just checks if there are any intersections at all"
   ]
  },
  {
   "cell_type": "code",
   "execution_count": 2,
   "metadata": {},
   "outputs": [
    {
     "name": "stdout",
     "output_type": "stream",
     "text": [
      "584\n",
      "933\n"
     ]
    }
   ],
   "source": [
    "part1 = 0\n",
    "part2 = 0\n",
    "\n",
    "for l in data:\n",
    "  (l1, l2) = (l.split(','))\n",
    "  elf1 = set(range(int(l1.split('-')[0]), int(l1.split('-')[1])+1))\n",
    "  elf2 = set(range(int(l2.split('-')[0]), int(l2.split('-')[1])+1))\n",
    "\n",
    "  intersections = elf1.intersection(elf2)\n",
    "\n",
    "  if len(intersections) == len(elf1) or len(intersections) == len(elf2):\n",
    "    part1 += 1\n",
    "\n",
    "  if len(intersections) > 0:\n",
    "    part2 += 1\n",
    "\n",
    "print(part1)\n",
    "print(part2)"
   ]
  }
 ],
 "metadata": {
  "kernelspec": {
   "display_name": "Python 3.10.2 64-bit",
   "language": "python",
   "name": "python3"
  },
  "language_info": {
   "codemirror_mode": {
    "name": "ipython",
    "version": 3
   },
   "file_extension": ".py",
   "mimetype": "text/x-python",
   "name": "python",
   "nbconvert_exporter": "python",
   "pygments_lexer": "ipython3",
   "version": "3.10.2"
  },
  "orig_nbformat": 4,
  "vscode": {
   "interpreter": {
    "hash": "efef832fc54b4577cae0e0592c3f87ffedd74e7258a0a3a23d4c218218ebce6c"
   }
  }
 },
 "nbformat": 4,
 "nbformat_minor": 2
}
