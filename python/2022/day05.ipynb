{
 "cells": [
  {
   "cell_type": "markdown",
   "metadata": {},
   "source": [
    "# Day 05: Supply Stacks"
   ]
  },
  {
   "cell_type": "markdown",
   "metadata": {},
   "source": [
    "## Setup"
   ]
  },
  {
   "cell_type": "code",
   "execution_count": 1,
   "metadata": {},
   "outputs": [],
   "source": [
    "data = [line for line in open(\"./inputs/day05.txt\", \"r\").read().splitlines()]"
   ]
  },
  {
   "cell_type": "markdown",
   "metadata": {},
   "source": [
    "## Parse data\n",
    "We're using double ended queus (deque) from collections.<br>\n",
    "First, we're building the shipyard with stacks depending on input length<br>\n",
    "Then, line by line appending crates (appendleft) until we've reached a blank line<br>\n",
    "Instruction parts are easier, just grap numeric values into arrays."
   ]
  },
  {
   "cell_type": "code",
   "execution_count": 2,
   "metadata": {},
   "outputs": [],
   "source": [
    "from collections import deque\n",
    "\n",
    "def createShipyard(stackCount):\n",
    "  createShipyard = {}\n",
    "  for i in range(stackCount):\n",
    "    createShipyard[f's{i+1}'] = deque()\n",
    "\n",
    "  return createShipyard\n",
    "\n",
    "def parseCrates(shipyard, line):\n",
    "  pos = 1\n",
    "  for _, stack in shipyard.items():\n",
    "    crate = line[pos:pos+1]\n",
    "    if crate != ' ' and not crate.isnumeric():\n",
    "      stack.appendleft(line[pos:pos+1])\n",
    "    pos += 4\n",
    "\n",
    "stackCount = (len(data[0]) + 1) // 4\n",
    "\n",
    "def parse():\n",
    "  shipyard = createShipyard(stackCount)\n",
    "  instructions = []\n",
    "\n",
    "  cratePart = True\n",
    "  for line in data:\n",
    "    if line == '':\n",
    "      cratePart = False\n",
    "      continue\n",
    "\n",
    "    if cratePart:\n",
    "      parseCrates(shipyard, line)\n",
    "    else:\n",
    "      instructions.append(\n",
    "          [int(instr) for instr in line.split(' ') if instr.isnumeric()])\n",
    "  \n",
    "  return shipyard, instructions"
   ]
  },
  {
   "cell_type": "markdown",
   "metadata": {},
   "source": [
    "## Part 1\n",
    "Iterate instructions and peek the last crate in each stack"
   ]
  },
  {
   "cell_type": "code",
   "execution_count": 3,
   "metadata": {},
   "outputs": [
    {
     "name": "stdout",
     "output_type": "stream",
     "text": [
      "BSDMQFLSP\n"
     ]
    }
   ],
   "source": [
    "shipyard, instructions = parse()\n",
    "\n",
    "for instr in instructions:\n",
    "  for _ in range(instr[0]):\n",
    "    src = shipyard[f's{instr[1]}'].pop()\n",
    "    shipyard[f's{instr[2]}'].append(src)\n",
    "\n",
    "part1 = ''\n",
    "for _, stack in shipyard.items():\n",
    "    part1 += stack[-1]\n",
    "\n",
    "print(part1)"
   ]
  },
  {
   "cell_type": "markdown",
   "metadata": {},
   "source": [
    "## Part 2\n",
    "CrateMover 9001 moves multiple crates and preserves the ordering"
   ]
  },
  {
   "cell_type": "code",
   "execution_count": 4,
   "metadata": {},
   "outputs": [
    {
     "name": "stdout",
     "output_type": "stream",
     "text": [
      "PGSQBFLDP\n"
     ]
    }
   ],
   "source": [
    "shipyard, instructions = parse()\n",
    "\n",
    "for instr in instructions:\n",
    "  crane = deque()\n",
    "  for _ in range(instr[0]):\n",
    "    src = shipyard[f's{instr[1]}'].pop()\n",
    "    crane.appendleft(src)\n",
    "\n",
    "  for c in crane:\n",
    "    shipyard[f's{instr[2]}'].append(c)\n",
    "\n",
    "part2 = ''\n",
    "for _, stack in shipyard.items():\n",
    "    part2 += stack[-1]\n",
    "\n",
    "print(part2)\n"
   ]
  }
 ],
 "metadata": {
  "kernelspec": {
   "display_name": "Python 3.10.3 64-bit",
   "language": "python",
   "name": "python3"
  },
  "language_info": {
   "codemirror_mode": {
    "name": "ipython",
    "version": 3
   },
   "file_extension": ".py",
   "mimetype": "text/x-python",
   "name": "python",
   "nbconvert_exporter": "python",
   "pygments_lexer": "ipython3",
   "version": "3.10.3"
  },
  "orig_nbformat": 4,
  "vscode": {
   "interpreter": {
    "hash": "d3b76649bff34fbd56b443403a4f51b68d358ac0109e87eef96f1b070706b26a"
   }
  }
 },
 "nbformat": 4,
 "nbformat_minor": 2
}
