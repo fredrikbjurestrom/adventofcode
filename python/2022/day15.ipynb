{
 "cells": [
  {
   "attachments": {},
   "cell_type": "markdown",
   "metadata": {},
   "source": [
    "# Part 15: Beacon Exclusion Zone"
   ]
  },
  {
   "attachments": {},
   "cell_type": "markdown",
   "metadata": {},
   "source": [
    "## Setup"
   ]
  },
  {
   "cell_type": "code",
   "execution_count": 1,
   "metadata": {},
   "outputs": [],
   "source": [
    "data = [line for line in open(\"./inputs/day15.txt\", \"r\").read().splitlines()]"
   ]
  },
  {
   "attachments": {},
   "cell_type": "markdown",
   "metadata": {},
   "source": [
    "## Helpers\n",
    "Parsing the four values by finding indices by '='.<br>\n",
    "<br>\n",
    "merge_ranges just normalizes from-to ranges, i.e [[0, 5],[1, 6]] => [[0, 6]]<br>\n",
    "line_coverage checks each line for sensor coverage by including sensors within manhattan distance<br>\n",
    "Part 2 added an optional \"limit\" argument.<br>"
   ]
  },
  {
   "cell_type": "code",
   "execution_count": 2,
   "metadata": {},
   "outputs": [],
   "source": [
    "def manhattan_distance(s, p):\n",
    "  return abs(s[0]-p[0]) + abs(s[1]-p[1])\n",
    "\n",
    "sensors = []\n",
    "distances = []\n",
    "beacons = set()\n",
    "\n",
    "i = 0\n",
    "for l in data:\n",
    "  indices = [i for i, c in enumerate(l) if c == '=']\n",
    "  sensor_x, sensor_y, beacon_x, beacon_y = [\n",
    "      int(l[indices[0]+1:].split(',')[0]),\n",
    "      int(l[indices[1]+1:].split(':')[0]),\n",
    "      int(l[indices[2]+1:].split(',')[0]),\n",
    "      int(l[indices[3]+1:])]\n",
    "  man_dist = manhattan_distance((sensor_x, sensor_y), (beacon_x, beacon_y))\n",
    "\n",
    "  sensors.append((sensor_x, sensor_y))\n",
    "  distances.append(man_dist)\n",
    "  beacons.add((beacon_x, beacon_y))\n",
    "\n",
    "def merge_ranges(ranges):\n",
    "  start = sorted(ranges)\n",
    "  stack = [start[0]]\n",
    "\n",
    "  for cur in start[1:]:\n",
    "    pre = stack[-1]\n",
    "    if pre[0] <= cur[0] <= pre[1]:\n",
    "      pre[1] = max(pre[1], cur[1])\n",
    "    else:\n",
    "      stack.append(cur)\n",
    "\n",
    "  return sorted(stack)\n",
    "\n",
    "def line_coverage(y, limit=None):\n",
    "  coverage = []\n",
    "  for i, c in enumerate(sensors):\n",
    "    if y-distances[i] <= c[1] <= y+distances[i]:\n",
    "      offset = distances[i]-abs(y-c[1])\n",
    "\n",
    "      if limit:\n",
    "        coverage.append([max(c[0]-offset,limit[0]), min(c[0]+offset,limit[1])])\n",
    "      else:\n",
    "        coverage.append([c[0]-offset, c[0]+offset])\n",
    "\n",
    "  return merge_ranges(coverage)"
   ]
  },
  {
   "attachments": {},
   "cell_type": "markdown",
   "metadata": {},
   "source": [
    "## Part 1\n",
    "Line coverage for one row, and substracting the number of beacons on said row."
   ]
  },
  {
   "cell_type": "code",
   "execution_count": 3,
   "metadata": {},
   "outputs": [
    {
     "name": "stdout",
     "output_type": "stream",
     "text": [
      "5125700\n"
     ]
    }
   ],
   "source": [
    "y = 2_000_000\n",
    "coverage = line_coverage(y)\n",
    "part1 = sum([len(range(c[0], c[1]+1)) for c in coverage])\n",
    "part1 -= len([b for b in beacons if b[1] == y])\n",
    "\n",
    "print(part1)"
   ]
  },
  {
   "attachments": {},
   "cell_type": "markdown",
   "metadata": {},
   "source": [
    "## Part 2\n",
    "We're iterating all 4 million rows to see if coverage has holes in it.<br>\n",
    "A soon as we see a hole in the coverage, we're exiting.<br>"
   ]
  },
  {
   "cell_type": "code",
   "execution_count": 4,
   "metadata": {},
   "outputs": [
    {
     "name": "stdout",
     "output_type": "stream",
     "text": [
      "11379394658764\n"
     ]
    }
   ],
   "source": [
    "limit = [0, 4_000_000]\n",
    "new_beacon = 0, 0\n",
    "\n",
    "for y in range(limit[0], limit[1]+1):\n",
    "  coverage = line_coverage(y, limit)\n",
    "  if len(coverage) > 1:\n",
    "    new_beacon = coverage[0][1] + 1, y\n",
    "    break\n",
    "  elif coverage[0][0] != limit[0]:\n",
    "    new_beacon = limit[0], y\n",
    "    break\n",
    "  elif coverage[0][1] != limit[1]:\n",
    "    new_beacon = limit[1], y\n",
    "    break\n",
    "\n",
    "print(new_beacon[0]*limit[1]+new_beacon[1])"
   ]
  }
 ],
 "metadata": {
  "kernelspec": {
   "display_name": "venv",
   "language": "python",
   "name": "python3"
  },
  "language_info": {
   "codemirror_mode": {
    "name": "ipython",
    "version": 3
   },
   "file_extension": ".py",
   "mimetype": "text/x-python",
   "name": "python",
   "nbconvert_exporter": "python",
   "pygments_lexer": "ipython3",
   "version": "3.10.3"
  },
  "orig_nbformat": 4,
  "vscode": {
   "interpreter": {
    "hash": "f905296f995c21a53b3a0ec62013a691af200c0620e534f9940b80f2b77e53c5"
   }
  }
 },
 "nbformat": 4,
 "nbformat_minor": 2
}
