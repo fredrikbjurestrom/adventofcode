{
 "cells": [
  {
   "attachments": {},
   "cell_type": "markdown",
   "metadata": {},
   "source": [
    "# Part 15: Beacon Exclusion Zone"
   ]
  },
  {
   "attachments": {},
   "cell_type": "markdown",
   "metadata": {},
   "source": [
    "## Setup"
   ]
  },
  {
   "cell_type": "code",
   "execution_count": 1,
   "metadata": {},
   "outputs": [],
   "source": [
    "data = [line for line in open(\"./inputs/day15.txt\", \"r\").read().splitlines()]"
   ]
  },
  {
   "attachments": {},
   "cell_type": "markdown",
   "metadata": {},
   "source": [
    "## Helpers\n",
    "Line parser that finds indices by '=', and parses the four values."
   ]
  },
  {
   "cell_type": "code",
   "execution_count": 2,
   "metadata": {},
   "outputs": [],
   "source": [
    "def parse_line(line):\n",
    "  indices = [i for i, c in enumerate(line) if c == '=']\n",
    "  sensor_x, sensor_y, beacon_x, beacon_y = [\n",
    "      int(line[indices[0]+1:].split(',')[0]),\n",
    "      int(line[indices[1]+1:].split(':')[0]),\n",
    "      int(line[indices[2]+1:].split(',')[0]),\n",
    "      int(line[indices[3]+1:])]\n",
    "\n",
    "  return sensor_x, sensor_y, beacon_x, beacon_y"
   ]
  },
  {
   "attachments": {},
   "cell_type": "markdown",
   "metadata": {},
   "source": [
    "## Part 1\n",
    "We're only interest in one row, so build a set with all cells covered by manhattan distance.<br>\n",
    "Return number of covered squares, not already covered by a beacon."
   ]
  },
  {
   "cell_type": "code",
   "execution_count": 3,
   "metadata": {},
   "outputs": [
    {
     "name": "stdout",
     "output_type": "stream",
     "text": [
      "5125700\n"
     ]
    }
   ],
   "source": [
    "part1_y = 2000000\n",
    "row = set()\n",
    "\n",
    "for l in data:\n",
    "  sensor_x, sensor_y, beacon_x, beacon_y = parse_line(l)\n",
    "  man_dist = abs(sensor_x-beacon_x) + abs(sensor_y-beacon_y)\n",
    "\n",
    "  if not sensor_y-man_dist <= part1_y <= sensor_y+man_dist:\n",
    "    continue\n",
    "\n",
    "  for x in range(sensor_x-(man_dist-abs(part1_y-sensor_y)), sensor_x+man_dist-abs(part1_y-sensor_y)+1):\n",
    "    if beacon_x == x and beacon_y == part1_y:\n",
    "      continue\n",
    "\n",
    "    row.add(x)\n",
    "\n",
    "print(len(row))"
   ]
  },
  {
   "attachments": {},
   "cell_type": "markdown",
   "metadata": {},
   "source": [
    "## Part 2 (incomplete)"
   ]
  },
  {
   "cell_type": "code",
   "execution_count": 6,
   "metadata": {},
   "outputs": [],
   "source": [
    "rows = {}\n",
    "magic_number = 4000000\n",
    "\n",
    "skipped_rows = set()\n",
    "full_row = set(range(magic_number+1))\n",
    "\n",
    "for l in data:\n",
    "  sensor_x, sensor_y, beacon_x, beacon_y = parse_line(l)\n",
    "  man_dist = abs(sensor_x-beacon_x) + abs(sensor_y-beacon_y)\n",
    "\n",
    "  for y in range(max(sensor_y-man_dist, 0), min(sensor_y+man_dist, magic_number)+1):\n",
    "    if y in skipped_rows:\n",
    "      continue\n",
    "\n",
    "    if y not in rows:\n",
    "      rows[y] = full_row.copy()\n",
    "\n",
    "    for x in range(sensor_x-(man_dist-abs(y-sensor_y)), sensor_x+man_dist-abs(y-sensor_y)+1):\n",
    "      if x in rows[y]:\n",
    "        rows[y].remove(x)\n",
    "\n",
    "    if len(rows[y]) == 0:\n",
    "      skipped_rows.add(y)\n",
    "      rows.pop(y, None)\n",
    "        \n",
    "print([i + list(r)[0] * 4000000 for (i, r) in rows.items()][0])"
   ]
  }
 ],
 "metadata": {
  "kernelspec": {
   "display_name": "venv",
   "language": "python",
   "name": "python3"
  },
  "language_info": {
   "codemirror_mode": {
    "name": "ipython",
    "version": 3
   },
   "file_extension": ".py",
   "mimetype": "text/x-python",
   "name": "python",
   "nbconvert_exporter": "python",
   "pygments_lexer": "ipython3",
   "version": "3.10.3"
  },
  "orig_nbformat": 4,
  "vscode": {
   "interpreter": {
    "hash": "f905296f995c21a53b3a0ec62013a691af200c0620e534f9940b80f2b77e53c5"
   }
  }
 },
 "nbformat": 4,
 "nbformat_minor": 2
}
