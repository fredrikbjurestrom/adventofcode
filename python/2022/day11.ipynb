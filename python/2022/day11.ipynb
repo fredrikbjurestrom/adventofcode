{
 "cells": [
  {
   "attachments": {},
   "cell_type": "markdown",
   "metadata": {},
   "source": [
    "# Day 11: Monkey in the Middle"
   ]
  },
  {
   "cell_type": "markdown",
   "metadata": {},
   "source": [
    "## Setup"
   ]
  },
  {
   "cell_type": "code",
   "execution_count": 5,
   "metadata": {},
   "outputs": [],
   "source": [
    "data = [line for line in open(\"./inputs/day11.txt\", \"r\").read().splitlines()]"
   ]
  },
  {
   "attachments": {},
   "cell_type": "markdown",
   "metadata": {},
   "source": [
    "## Helpers"
   ]
  },
  {
   "cell_type": "code",
   "execution_count": 6,
   "metadata": {},
   "outputs": [],
   "source": [
    "items = []\n",
    "operations = []\n",
    "tests = []\n",
    "\n",
    "def add(a, b):\n",
    "  return a + b\n",
    "\n",
    "def mult(a, b):\n",
    "  return a * b\n",
    "\n",
    "def parse():\n",
    "  items = []\n",
    "  operations = []\n",
    "  tests = []\n",
    "  divisor = None\n",
    "  throwa = None\n",
    "  throwb = None\n",
    "  \n",
    "  for l in data:\n",
    "    if l.startswith('Monkey') or l == '':\n",
    "      continue\n",
    "\n",
    "    if l.strip().startswith('Starting items:'):\n",
    "      items.append([int(x) for x in l[18:].split(',')])\n",
    "\n",
    "    if l.strip().startswith('Operation:'):\n",
    "      op, b = l[23:].split(' ')\n",
    "      if op == '*':\n",
    "        multiplicator = 'x' if b == 'old' else b\n",
    "        multfn = f'lambda x: mult(x, {multiplicator})'\n",
    "        operations.append(eval(multfn))\n",
    "      elif op == '+':\n",
    "        addend = 'x' if b == 'old' else b\n",
    "        addfn = f'lambda x: add(x, {addend})'\n",
    "        operations.append(eval(addfn))\n",
    "\n",
    "    if l.strip().startswith('Test:'):\n",
    "      divisor = int(l[21:])\n",
    "    if l.strip().startswith('If true:'):\n",
    "      throwa = int(l[29:])\n",
    "    if l.strip().startswith('If false:'):\n",
    "      throwb = int(l[30:])\n",
    "\n",
    "    if divisor != None and throwa != None and throwb != None :\n",
    "      testfn = f'lambda x: {throwa} if x % {divisor} == 0 else {throwb}'\n",
    "      tests.append(eval(testfn))\n",
    "      divisor = None\n",
    "      throwa = None\n",
    "      throwb = None"
   ]
  },
  {
   "attachments": {},
   "cell_type": "markdown",
   "metadata": {},
   "source": [
    "## Part 1"
   ]
  },
  {
   "cell_type": "code",
   "execution_count": 7,
   "metadata": {},
   "outputs": [
    {
     "name": "stdout",
     "output_type": "stream",
     "text": [
      "151312\n"
     ]
    }
   ],
   "source": [
    "# parse()\n",
    "\n",
    "# part1 = [0] * len(items)\n",
    "\n",
    "# def turn(monkey):\n",
    "#   no = len(items[monkey])\n",
    "#   for _ in range(no):\n",
    "#     i = items[monkey].pop(0)\n",
    "#     i = operations[monkey](i)\n",
    "#     i = i // 3\n",
    "  \n",
    "#     to = tests[monkey](i)\n",
    "#     items[to].append(i)\n",
    "\n",
    "# for _ in range(20):\n",
    "#   for monkey in range(len(items)):\n",
    "#     part1[monkey] += len(items[monkey])\n",
    "#     turn(monkey)\n",
    "\n",
    "# first, second = sorted(part1)[-2:]\n",
    "# print(first * second)"
   ]
  },
  {
   "attachments": {},
   "cell_type": "markdown",
   "metadata": {},
   "source": [
    "## Part 2 (incomplete)"
   ]
  },
  {
   "cell_type": "code",
   "execution_count": 8,
   "metadata": {},
   "outputs": [
    {
     "name": "stdout",
     "output_type": "stream",
     "text": [
      "1885128\n"
     ]
    }
   ],
   "source": [
    "parse()\n",
    "\n",
    "part2 = [0] * len(items)\n",
    "\n",
    "def turn(monkey):\n",
    "  no = len(items[monkey])\n",
    "  for _ in range(no):\n",
    "    i = items[monkey].pop(0)\n",
    "    i = operations[monkey](i)\n",
    "    i = 3 + (i % 3) ## WTF\n",
    "\n",
    "    to = tests[monkey](i)\n",
    "    items[to].append(i)\n",
    "\n",
    "for _ in range(20):\n",
    "  for monkey in range(len(items)):\n",
    "    part2[monkey] += len(items[monkey])\n",
    "    turn(monkey)\n",
    "\n",
    "first, second = sorted(part2)[-2:]\n",
    "print(first * second)"
   ]
  }
 ],
 "metadata": {
  "kernelspec": {
   "display_name": "base",
   "language": "python",
   "name": "python3"
  },
  "language_info": {
   "codemirror_mode": {
    "name": "ipython",
    "version": 3
   },
   "file_extension": ".py",
   "mimetype": "text/x-python",
   "name": "python",
   "nbconvert_exporter": "python",
   "pygments_lexer": "ipython3",
   "version": "3.9.13"
  },
  "orig_nbformat": 4,
  "vscode": {
   "interpreter": {
    "hash": "6689a018b57d7b81cc9f9d7f3a1e878b0736f960146c688738eb0cdb8e267b12"
   }
  }
 },
 "nbformat": 4,
 "nbformat_minor": 2
}
