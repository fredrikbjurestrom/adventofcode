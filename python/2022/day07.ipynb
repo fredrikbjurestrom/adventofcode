{
 "cells": [
  {
   "cell_type": "markdown",
   "metadata": {},
   "source": [
    "# Day 07: No Space Left On Device"
   ]
  },
  {
   "cell_type": "markdown",
   "metadata": {},
   "source": [
    "## Setup"
   ]
  },
  {
   "cell_type": "code",
   "execution_count": 1,
   "metadata": {},
   "outputs": [],
   "source": [
    "data = [line for line in open(\"./inputs/day07.txt\", \"r\").read().splitlines()]"
   ]
  },
  {
   "cell_type": "markdown",
   "metadata": {},
   "source": [
    "### Directory functions\n",
    "Helper functions to traverse our file system<br>\n",
    "The check for non-existing directory is not needed,<br>\n",
    "but was added during a vein error searching attempt."
   ]
  },
  {
   "cell_type": "code",
   "execution_count": 2,
   "metadata": {},
   "outputs": [],
   "source": [
    "def parent(pwd):\n",
    "  parts = pwd.split('/')[:-1]\n",
    "  return '/'.join(parts) if len(parts) > 1 else '/'\n",
    "\n",
    "def appendPath(pwd, sub):\n",
    "  return (pwd + '/' + sub).replace('//', '/')\n",
    "\n",
    "def cd(dirs, pwd, param):\n",
    "  match param:\n",
    "    case '/':\n",
    "      return '/'\n",
    "    case '..':\n",
    "      return parent(pwd)\n",
    "    case _:\n",
    "      newPwd = appendPath(pwd, param)\n",
    "\n",
    "      if newPwd not in dirs:\n",
    "        print('Warning, Trying to cd into non-existing directory')\n",
    "        return pwd\n",
    "\n",
    "      return newPwd\n",
    "\n",
    "def parse(dirs, files, pwd, line):\n",
    "  part1, part2 = line.split(' ')\n",
    "\n",
    "  if part1 == 'dir':\n",
    "    dirs[appendPath(pwd, part2)] = 0\n",
    "    return\n",
    "  elif not part1.isnumeric():\n",
    "    return\n",
    "\n",
    "  files[appendPath(pwd, part2)] = int(part1)"
   ]
  },
  {
   "cell_type": "markdown",
   "metadata": {},
   "source": [
    "## Directory builder\n",
    "Shared setup for part 1 and 2.<br>\n",
    "Iterates each line and collects unique directories and files<br>\n",
    "Sums total file size for each directory"
   ]
  },
  {
   "cell_type": "code",
   "execution_count": 3,
   "metadata": {},
   "outputs": [],
   "source": [
    "dirs = { '/': 0 }\n",
    "files = {}\n",
    "pwd = '/'\n",
    "\n",
    "for line in data:\n",
    "  if line[0] == '$':\n",
    "    _, cmd, *param = line.split(' ')\n",
    "\n",
    "    if cmd == 'cd':\n",
    "      pwd = cd(dirs, pwd, param[0].lower())\n",
    "  else:\n",
    "    parse(dirs, files, pwd, line)\n",
    "\n",
    "for dir, _ in dirs.items():\n",
    "  dirs[dir] = sum([v for k, v in files.items() if k.startswith(dir)])"
   ]
  },
  {
   "cell_type": "markdown",
   "metadata": {},
   "source": [
    "## Part 1\n",
    "Finds sum of all directories with a total file size of <= 100 000"
   ]
  },
  {
   "cell_type": "code",
   "execution_count": 4,
   "metadata": {},
   "outputs": [
    {
     "name": "stdout",
     "output_type": "stream",
     "text": [
      "1667443\n"
     ]
    }
   ],
   "source": [
    "part1 = 0\n",
    "for k, v in dirs.items():\n",
    "  if (v <= 100000):\n",
    "    part1 += v\n",
    "\n",
    "print(part1)"
   ]
  },
  {
   "cell_type": "markdown",
   "metadata": {},
   "source": [
    "## Part 2\n",
    "Finds the best candidate directory to delete<br>\n",
    "Lists all dirs with size over file size needed,<br>\n",
    "sorts them ascending and picks the first one."
   ]
  },
  {
   "cell_type": "code",
   "execution_count": 5,
   "metadata": {},
   "outputs": [
    {
     "name": "stdout",
     "output_type": "stream",
     "text": [
      "8998590\n"
     ]
    }
   ],
   "source": [
    "totalSpace = 70000000\n",
    "neededForUpdate = 30000000\n",
    "currentSpace = totalSpace - dirs['/']\n",
    "\n",
    "print([v for _, v in sorted(dirs.items(), key = lambda i: i[1]) if v > neededForUpdate - currentSpace][0])"
   ]
  }
 ],
 "metadata": {
  "kernelspec": {
   "display_name": "Python 3.10.3 64-bit",
   "language": "python",
   "name": "python3"
  },
  "language_info": {
   "codemirror_mode": {
    "name": "ipython",
    "version": 3
   },
   "file_extension": ".py",
   "mimetype": "text/x-python",
   "name": "python",
   "nbconvert_exporter": "python",
   "pygments_lexer": "ipython3",
   "version": "3.10.3"
  },
  "orig_nbformat": 4,
  "vscode": {
   "interpreter": {
    "hash": "d3b76649bff34fbd56b443403a4f51b68d358ac0109e87eef96f1b070706b26a"
   }
  }
 },
 "nbformat": 4,
 "nbformat_minor": 2
}
