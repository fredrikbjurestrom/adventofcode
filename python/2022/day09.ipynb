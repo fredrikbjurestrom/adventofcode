{
 "cells": [
  {
   "attachments": {},
   "cell_type": "markdown",
   "metadata": {},
   "source": [
    "# Day 09: Rope Bridge"
   ]
  },
  {
   "cell_type": "markdown",
   "metadata": {},
   "source": [
    "## Setup"
   ]
  },
  {
   "cell_type": "code",
   "execution_count": 1,
   "metadata": {},
   "outputs": [],
   "source": [
    "data = [line.split() for line in open(\"./inputs/day09.txt\", \"r\").read().splitlines()]"
   ]
  },
  {
   "attachments": {},
   "cell_type": "markdown",
   "metadata": {},
   "source": [
    "### Helpers\n",
    "A *dirs* dict with vectors for each direction.<br>\n",
    "<br>\n",
    "*Displace* adds a vector to a point.<br>\n",
    "<br>\n",
    "*Follow* implements the tail logic.<br>\n",
    "If both axises trails by less then 2 positions, the tail doesn't move.<br>\n",
    "Otherwise, move one step toward head in each direction.<br>"
   ]
  },
  {
   "cell_type": "code",
   "execution_count": 2,
   "metadata": {},
   "outputs": [],
   "source": [
    "dirs = {\n",
    "  'U': [0, 1],\n",
    "  'D': [0, -1],\n",
    "  'R': [1, 0],\n",
    "  'L': [-1, 0]\n",
    "}\n",
    "\n",
    "def displace(pos, vec):\n",
    "  return [sum(x) for x in zip(pos, vec)]\n",
    "\n",
    "def follow(tail, head):\n",
    "  xdiff, ydiff = [zh-zt for (zh, zt) in zip(head, tail)]\n",
    "\n",
    "  if abs(xdiff) < 2 and abs(ydiff) < 2:\n",
    "    return tail\n",
    "\n",
    "  if ydiff > 0:\n",
    "    tail = displace(tail, dirs['U'])\n",
    "  if ydiff < 0:\n",
    "    tail = displace(tail, dirs['D'])\n",
    "\n",
    "  if xdiff > 0:\n",
    "    tail = displace(tail, dirs['R'])\n",
    "  if xdiff < 0:\n",
    "    tail = displace(tail, dirs['L'])\n",
    "  \n",
    "  return tail"
   ]
  },
  {
   "attachments": {},
   "cell_type": "markdown",
   "metadata": {},
   "source": [
    "## Part 1\n",
    "For each step (direction and length), displace head and check if tail should follow<br>\n",
    "Save each tail position into a set."
   ]
  },
  {
   "cell_type": "code",
   "execution_count": 3,
   "metadata": {},
   "outputs": [
    {
     "name": "stdout",
     "output_type": "stream",
     "text": [
      "6030\n"
     ]
    }
   ],
   "source": [
    "h = [ 0, 0 ]\n",
    "t = [ 0, 0 ]\n",
    "\n",
    "pos = set(['0:0'])\n",
    "\n",
    "for dir, step in data:\n",
    "  for i in range(int(step)):\n",
    "    h = displace(h, dirs[dir])\n",
    "    t = follow(t, h)\n",
    "    \n",
    "    pos.add(f'{t[0]}:{t[1]}')\n",
    "\n",
    "print(len(pos))"
   ]
  },
  {
   "attachments": {},
   "cell_type": "markdown",
   "metadata": {},
   "source": [
    "## Part 2\n",
    "Changed head/tail to array of knots.<br>\n",
    "0 position is head and listens to incoming instructions.<br>\n",
    "<br>\n",
    "The rest of the rope follows the previous knot.<br>\n",
    "Save last knot into position set."
   ]
  },
  {
   "cell_type": "code",
   "execution_count": 4,
   "metadata": {},
   "outputs": [
    {
     "name": "stdout",
     "output_type": "stream",
     "text": [
      "2545\n"
     ]
    }
   ],
   "source": [
    "rope = [[0, 0]] * 10\n",
    "pos = set(['0:0'])\n",
    "\n",
    "for dir, step in data:\n",
    "  for i in range(int(step)):\n",
    "    rope[0] = displace(rope[0], dirs[dir])\n",
    "\n",
    "    for r in range(1, len(rope)):\n",
    "      rope[r] = follow(rope[r], rope[r-1])\n",
    "\n",
    "      if r == len(rope)-1:\n",
    "        pos.add(f'{rope[r][0]}:{rope[r][1]}')\n",
    "\n",
    "print(len(pos))"
   ]
  }
 ],
 "metadata": {
  "kernelspec": {
   "display_name": "Python 3.10.3 64-bit",
   "language": "python",
   "name": "python3"
  },
  "language_info": {
   "codemirror_mode": {
    "name": "ipython",
    "version": 3
   },
   "file_extension": ".py",
   "mimetype": "text/x-python",
   "name": "python",
   "nbconvert_exporter": "python",
   "pygments_lexer": "ipython3",
   "version": "3.10.3"
  },
  "orig_nbformat": 4,
  "vscode": {
   "interpreter": {
    "hash": "d3b76649bff34fbd56b443403a4f51b68d358ac0109e87eef96f1b070706b26a"
   }
  }
 },
 "nbformat": 4,
 "nbformat_minor": 2
}
