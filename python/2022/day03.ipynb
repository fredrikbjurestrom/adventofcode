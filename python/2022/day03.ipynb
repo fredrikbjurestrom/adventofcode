{
 "cells": [
  {
   "cell_type": "markdown",
   "metadata": {},
   "source": [
    "# Day 03: Ruckstack Reorganization"
   ]
  },
  {
   "cell_type": "markdown",
   "metadata": {},
   "source": [
    "## Setup"
   ]
  },
  {
   "cell_type": "code",
   "execution_count": 2,
   "metadata": {},
   "outputs": [],
   "source": [
    "data = [line for line in open(\"./inputs/day03.txt\", \"r\").read().splitlines()]"
   ]
  },
  {
   "cell_type": "markdown",
   "metadata": {},
   "source": [
    "### Score function\n",
    "Collects all parameters passed to function with *<br>\n",
    "Translates ascii value to base 'a' == 1 and 'A' == 27"
   ]
  },
  {
   "cell_type": "code",
   "execution_count": 3,
   "metadata": {},
   "outputs": [],
   "source": [
    "def score(*args):\n",
    "  return sum([ord(c)-38 if c.isupper() else ord(c)-96 for c in args])"
   ]
  },
  {
   "cell_type": "markdown",
   "metadata": {},
   "source": [
    "## Part 1\n",
    "Iterates all rucksacks, splitting each rucksack by half into sets {}.<br>\n",
    "Set .intersection performes inner join between sets<br>\n",
    "Resulting set is then unpacked with * into score function"
   ]
  },
  {
   "cell_type": "code",
   "execution_count": 4,
   "metadata": {},
   "outputs": [
    {
     "name": "stdout",
     "output_type": "stream",
     "text": [
      "7716\n"
     ]
    }
   ],
   "source": [
    "part1 = 0\n",
    "\n",
    "for rucksack in data:\n",
    "  divider = len(rucksack)//2\n",
    "  (comp1, comp2) = ({c for c in compartment} for compartment in (rucksack[0:divider], rucksack[divider:]))\n",
    "\n",
    "  part1 += score(*comp1.intersection(comp2))\n",
    "\n",
    "print(part1)"
   ]
  },
  {
   "cell_type": "markdown",
   "metadata": {},
   "source": [
    "## Part 2\n",
    "Grab rucksacks in groups of three sets<br>\n",
    "Intersect the first set with the rest (unpacked with *)"
   ]
  },
  {
   "cell_type": "code",
   "execution_count": 21,
   "metadata": {},
   "outputs": [
    {
     "name": "stdout",
     "output_type": "stream",
     "text": [
      "2973\n"
     ]
    }
   ],
   "source": [
    "part2 = 0\n",
    "\n",
    "i = 0\n",
    "while i < len(data):\n",
    "  rucksacks = [{c for c in rucksack} for rucksack in data[i:i+3]]\n",
    "  badge = rucksacks[0].intersection(*rucksacks[1:])\n",
    "\n",
    "  part2 += score(*badge)\n",
    "  i += 3\n",
    "  \n",
    "print(part2)"
   ]
  }
 ],
 "metadata": {
  "kernelspec": {
   "display_name": "Python 3.10.2 64-bit",
   "language": "python",
   "name": "python3"
  },
  "language_info": {
   "codemirror_mode": {
    "name": "ipython",
    "version": 3
   },
   "file_extension": ".py",
   "mimetype": "text/x-python",
   "name": "python",
   "nbconvert_exporter": "python",
   "pygments_lexer": "ipython3",
   "version": "3.10.2"
  },
  "orig_nbformat": 4,
  "vscode": {
   "interpreter": {
    "hash": "efef832fc54b4577cae0e0592c3f87ffedd74e7258a0a3a23d4c218218ebce6c"
   }
  }
 },
 "nbformat": 4,
 "nbformat_minor": 2
}
