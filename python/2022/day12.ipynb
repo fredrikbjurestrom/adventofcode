{
 "cells": [
  {
   "attachments": {},
   "cell_type": "markdown",
   "metadata": {},
   "source": [
    "# Day 12: Hill Climbing Algorithm"
   ]
  },
  {
   "attachments": {},
   "cell_type": "markdown",
   "metadata": {},
   "source": [
    "## Setup"
   ]
  },
  {
   "cell_type": "code",
<<<<<<< HEAD
   "execution_count": 10,
=======
   "execution_count": 9,
>>>>>>> 3f71890 (Dag 12, bfs ftw)
   "metadata": {},
   "outputs": [],
   "source": [
    "data = [line for line in open(\"./inputs/day12.txt\", \"r\").read().splitlines()]"
   ]
  },
  {
   "attachments": {},
   "cell_type": "markdown",
   "metadata": {},
   "source": [
    "## Helpers\n",
    "Parser builds graph dict, validating all traversable neighbours.<br>\n",
    "If S or E are found, the're stored as the start (S) and end (E) nodes.<br>\n",
    "<br>\n",
    "Bfs function starts by building a dict containing node it came from when traversing the node for the first time.<br>\n",
    "Then it starts with target node and goes backwards until it finds the start node.<br>"
   ]
  },
  {
   "cell_type": "code",
<<<<<<< HEAD
   "execution_count": 11,
=======
   "execution_count": 10,
>>>>>>> 3f71890 (Dag 12, bfs ftw)
   "metadata": {},
   "outputs": [],
   "source": [
    "def displace(pos, vec):\n",
    "  return [sum(x) for x in zip(pos, vec)]\n",
    "\n",
    "def validstep(cur, n):\n",
    "  return ord(cur.replace('S', 'a').replace('E', 'z')) - ord(n.replace('S', 'a').replace('E', 'z')) >= -1\n",
    "\n",
    "def parse():\n",
    "  paths = {}\n",
    "  start = 0, 0\n",
    "  end = 0, 0\n",
<<<<<<< HEAD
=======
    "  alocs = []\n",
>>>>>>> 3f71890 (Dag 12, bfs ftw)
    "\n",
    "  for y in range(len(data)):\n",
    "    for x in range(len(data[y])):\n",
    "      cur = data[y][x]\n",
    "\n",
    "      if cur == 'S':\n",
    "        start = x, y\n",
    "      elif cur == 'E':\n",
    "        end = x, y\n",
<<<<<<< HEAD
=======
    "      elif cur == 'a':\n",
    "        alocs.append((x, y))\n",
>>>>>>> 3f71890 (Dag 12, bfs ftw)
    "      \n",
    "      neighbours = []\n",
    "      for d in [[0, 1], [0, -1], [1, 0], [-1, 0]]:\n",
    "        nx, ny = displace((x, y), d)\n",
    "\n",
    "        if not (0 <= nx < len(data[y])) or not (0 <= ny < len(data)):\n",
    "          continue\n",
    "\n",
    "        n = data[ny][nx]\n",
    "        if not validstep(cur, n):\n",
    "          continue\n",
    "\n",
    "        neighbours.append((nx, ny))\n",
    "\n",
    "      paths[(x, y)] = neighbours\n",
    "\n",
<<<<<<< HEAD
    "  return paths, start, end\n",
=======
    "  return paths, start, end, alocs\n",
>>>>>>> 3f71890 (Dag 12, bfs ftw)
    "\n",
    "def bfs(paths, start, end):\n",
    "  previous = {}\n",
    "  queue = [ start ]\n",
    "\n",
    "  while queue:\n",
    "    cur = queue.pop(0)\n",
    "\n",
    "    for n in paths[cur]:\n",
    "      if n in previous.keys():\n",
    "        continue\n",
    "    \n",
    "      previous[n] = cur\n",
    "      queue.append(n)\n",
    "\n",
    "  shortest_path = []\n",
    "  cur = end\n",
    "  while cur != start:\n",
    "    if cur not in previous.keys():\n",
    "      break\n",
    "\n",
    "    shortest_path.append(cur)\n",
    "    cur = previous[cur]\n",
    "\n",
    "  return shortest_path"
   ]
  },
  {
   "attachments": {},
   "cell_type": "markdown",
   "metadata": {},
   "source": [
    "## Part 1\n",
<<<<<<< HEAD
    "Part 1 finds the unweighted shortest path"
=======
    "Part 1 finds the shortest path between start and end"
>>>>>>> 3f71890 (Dag 12, bfs ftw)
   ]
  },
  {
   "cell_type": "code",
<<<<<<< HEAD
   "execution_count": 12,
=======
   "execution_count": 11,
>>>>>>> 3f71890 (Dag 12, bfs ftw)
   "metadata": {},
   "outputs": [
    {
     "name": "stdout",
     "output_type": "stream",
     "text": [
      "380\n"
     ]
    }
   ],
   "source": [
<<<<<<< HEAD
    "paths, start, end = parse()\n",
=======
    "paths, start, end, _ = parse()\n",
>>>>>>> 3f71890 (Dag 12, bfs ftw)
    "shortest_path = bfs(paths, start, end)\n",
    "\n",
    "print(len(shortest_path))"
   ]
  },
  {
   "attachments": {},
   "cell_type": "markdown",
   "metadata": {},
   "source": [
<<<<<<< HEAD
    "## Part 2"
=======
    "## Part 2\n",
    "Iterate all 'a' locations and save shortest distance"
>>>>>>> 3f71890 (Dag 12, bfs ftw)
   ]
  },
  {
   "cell_type": "code",
<<<<<<< HEAD
   "execution_count": null,
   "metadata": {},
   "outputs": [],
   "source": []
=======
   "execution_count": 12,
   "metadata": {},
   "outputs": [
    {
     "name": "stdout",
     "output_type": "stream",
     "text": [
      "375\n"
     ]
    }
   ],
   "source": [
    "paths, _, end, alocs = parse()\n",
    "\n",
    "min = 999999999\n",
    "for aloc in alocs:\n",
    "  shortest_path = bfs(paths, aloc, end)\n",
    "  l = len(shortest_path)\n",
    "\n",
    "  if 0 < l < min:\n",
    "    min = l\n",
    "\n",
    "print(min)"
   ]
>>>>>>> 3f71890 (Dag 12, bfs ftw)
  }
 ],
 "metadata": {
  "kernelspec": {
   "display_name": "Python 3",
   "language": "python",
   "name": "python3"
  },
  "language_info": {
   "codemirror_mode": {
    "name": "ipython",
    "version": 3
   },
   "file_extension": ".py",
   "mimetype": "text/x-python",
   "name": "python",
   "nbconvert_exporter": "python",
   "pygments_lexer": "ipython3",
   "version": "3.10.3"
  },
  "orig_nbformat": 4,
  "vscode": {
   "interpreter": {
    "hash": "d3b76649bff34fbd56b443403a4f51b68d358ac0109e87eef96f1b070706b26a"
   }
  }
 },
 "nbformat": 4,
 "nbformat_minor": 2
}
