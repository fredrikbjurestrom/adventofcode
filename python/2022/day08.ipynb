{
 "cells": [
  {
   "attachments": {},
   "cell_type": "markdown",
   "metadata": {},
   "source": [
    "# Day 08: Treetop Tree House"
   ]
  },
  {
   "attachments": {},
   "cell_type": "markdown",
   "metadata": {},
   "source": [
    "## Setup"
   ]
  },
  {
   "cell_type": "code",
   "execution_count": 158,
   "metadata": {},
   "outputs": [],
   "source": [
    "data = [[int(c) for c in line] for line in open(\"./inputs/day08.txt\", \"r\").read().splitlines()]"
   ]
  },
  {
   "attachments": {},
   "cell_type": "markdown",
   "metadata": {},
   "source": [
    "## Part 1"
   ]
  },
  {
   "cell_type": "code",
   "execution_count": 159,
   "metadata": {},
   "outputs": [
    {
     "name": "stdout",
     "output_type": "stream",
     "text": [
      "1827\n"
     ]
    }
   ],
   "source": [
    "trees = set()\n",
    "\n",
    "for y in range(len(data)):\n",
    "  for x in range(len(data[y])):\n",
    "    # edge\n",
    "    if x in (0, len(data[y])-1) or y in (0, len(data)-1):\n",
    "      trees.add((x, y))\n",
    "      continue\n",
    "\n",
    "    cur = data[y][x]\n",
    "\n",
    "    # left\n",
    "    if not any([1 for i in data[y][0:x] if i >= cur]):\n",
    "      trees.add((x, y))\n",
    "      continue\n",
    "\n",
    "    # right\n",
    "    if not any([1 for i in data[y][x+1:len(data[y])] if i >= cur]):\n",
    "      trees.add((x, y))\n",
    "      continue\n",
    "\n",
    "    # up\n",
    "    if not any([1 for r in data[0:y] if r[x] >= cur]):\n",
    "      trees.add((x, y))\n",
    "      continue\n",
    "\n",
    "    # down\n",
    "    if not any([1 for r in data[y+1:len(data)] if r[x] >= cur]):\n",
    "      trees.add((x, y))\n",
    "      continue\n",
    "\n",
    "print(len(trees))\n",
    "# print(trees)\n"
   ]
  },
  {
   "attachments": {},
   "cell_type": "markdown",
   "metadata": {},
   "source": [
    "## Part2"
   ]
  },
  {
   "cell_type": "code",
   "execution_count": null,
   "metadata": {},
   "outputs": [],
   "source": [
    "trees = set()\n",
    "\n",
    "for y in range(len(data)):\n",
    "  for x in range(len(data[y])):\n",
    "\n",
    "    # up\n",
    "    for u in range(0, y, -1)\n",
    "\n",
    "\n",
    "\n",
    "print(len(trees))\n",
    "# print(trees)\n"
   ]
  }
 ],
 "metadata": {
  "kernelspec": {
   "display_name": "Python 3.10.3 64-bit",
   "language": "python",
   "name": "python3"
  },
  "language_info": {
   "codemirror_mode": {
    "name": "ipython",
    "version": 3
   },
   "file_extension": ".py",
   "mimetype": "text/x-python",
   "name": "python",
   "nbconvert_exporter": "python",
   "pygments_lexer": "ipython3",
   "version": "3.10.3"
  },
  "orig_nbformat": 4,
  "vscode": {
   "interpreter": {
    "hash": "d3b76649bff34fbd56b443403a4f51b68d358ac0109e87eef96f1b070706b26a"
   }
  }
 },
 "nbformat": 4,
 "nbformat_minor": 2
}
