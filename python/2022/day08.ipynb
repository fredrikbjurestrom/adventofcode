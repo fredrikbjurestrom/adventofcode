{
 "cells": [
  {
   "attachments": {},
   "cell_type": "markdown",
   "metadata": {},
   "source": [
    "# Day 08: Treetop Tree House"
   ]
  },
  {
   "attachments": {},
   "cell_type": "markdown",
   "metadata": {},
   "source": [
    "## Setup"
   ]
  },
  {
   "cell_type": "code",
   "execution_count": 1,
   "metadata": {},
   "outputs": [],
   "source": [
    "data = [[int(c) for c in line] for line in open(\"./inputs/day08.txt\", \"r\").read().splitlines()]"
   ]
  },
  {
   "attachments": {},
   "cell_type": "markdown",
   "metadata": {},
   "source": [
    "## Part 1\n",
    "Iterate inner grid (skipping edges) and check each direction if there are any blocking trees<br>\n",
    "Add visible trees into set (could be a regular array, since we're continuing on each match)"
   ]
  },
  {
   "cell_type": "code",
   "execution_count": 2,
   "metadata": {},
   "outputs": [
    {
     "name": "stdout",
     "output_type": "stream",
     "text": [
      "1827\n"
     ]
    }
   ],
   "source": [
    "edges = len(data) * 2 + len(data[0]) * 2 - 4\n",
    "trees = set()\n",
    "\n",
    "for y in range(1, len(data)-1):\n",
    "  for x in range(1, len(data[y])-1):\n",
    "    cur = data[y][x]\n",
    "\n",
    "    # up\n",
    "    if not any([1 for r in data[0:y] if r[x] >= cur]):\n",
    "      trees.add((x, y))\n",
    "      continue\n",
    "\n",
    "    # down\n",
    "    if not any([1 for r in data[y+1:len(data)] if r[x] >= cur]):\n",
    "      trees.add((x, y))\n",
    "      continue\n",
    "\n",
    "    # left\n",
    "    if not any([1 for i in data[y][0:x] if i >= cur]):\n",
    "      trees.add((x, y))\n",
    "      continue\n",
    "\n",
    "    # right\n",
    "    if not any([1 for i in data[y][x+1:len(data[y])] if i >= cur]):\n",
    "      trees.add((x, y))\n",
    "      continue   \n",
    "\n",
    "print(edges + len(trees))"
   ]
  },
  {
   "attachments": {},
   "cell_type": "markdown",
   "metadata": {},
   "source": [
    "## Part2\n",
    "Similar to part 1, we're skipping edges. Now becayse at least one direction is 0<br>\n",
    "Counting each direction step until blocking tree or edge found"
   ]
  },
  {
   "cell_type": "code",
   "execution_count": 3,
   "metadata": {},
   "outputs": [
    {
     "name": "stdout",
     "output_type": "stream",
     "text": [
      "335580\n"
     ]
    }
   ],
   "source": [
    "bestScore = 0\n",
    "\n",
    "for y in range(1, len(data)-1):\n",
    "  for x in range(1, len(data[y])-1):\n",
    "    cur = data[y][x]\n",
    "\n",
    "    # up\n",
    "    up = 0\n",
    "    for u in range(y-1, -1, -1):\n",
    "      up += 1\n",
    "      if data[u][x] >= cur:\n",
    "        break\n",
    "\n",
    "    # down\n",
    "    down = 0\n",
    "    for d in range(y+1, len(data)):\n",
    "      down += 1\n",
    "      if data[d][x] >= cur:\n",
    "        break\n",
    "\n",
    "    # left\n",
    "    left = 0\n",
    "    for l in range(x-1, -1, -1):\n",
    "      left += 1\n",
    "      if data[y][l] >= cur:\n",
    "        break\n",
    "    \n",
    "    # right\n",
    "    right = 0\n",
    "    for r in range(x+1, len(data[y])):\n",
    "      right += 1\n",
    "      if data[y][r] >= cur:\n",
    "        break\n",
    "\n",
    "    score = up * down * left * right\n",
    "\n",
    "    if score > bestScore:\n",
    "      bestScore = score\n",
    "\n",
    "print(bestScore)"
   ]
  }
 ],
 "metadata": {
  "kernelspec": {
   "display_name": "Python 3.10.3 64-bit",
   "language": "python",
   "name": "python3"
  },
  "language_info": {
   "codemirror_mode": {
    "name": "ipython",
    "version": 3
   },
   "file_extension": ".py",
   "mimetype": "text/x-python",
   "name": "python",
   "nbconvert_exporter": "python",
   "pygments_lexer": "ipython3",
   "version": "3.10.3"
  },
  "orig_nbformat": 4,
  "vscode": {
   "interpreter": {
    "hash": "d3b76649bff34fbd56b443403a4f51b68d358ac0109e87eef96f1b070706b26a"
   }
  }
 },
 "nbformat": 4,
 "nbformat_minor": 2
}
