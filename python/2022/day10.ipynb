{
 "cells": [
  {
   "cell_type": "markdown",
   "metadata": {},
   "source": [
    "# Day 10: Cathode-Ray Tube"
   ]
  },
  {
   "cell_type": "markdown",
   "metadata": {},
   "source": [
    "## Setup"
   ]
  },
  {
   "cell_type": "code",
   "execution_count": 1,
   "metadata": {},
   "outputs": [],
   "source": [
    "data = [line.split() for line in open(\"./inputs/day10.txt\", \"r\").read().splitlines()]"
   ]
  },
  {
   "attachments": {},
   "cell_type": "markdown",
   "metadata": {},
   "source": [
    "## Part 1 & 2\n",
    "Cycle once for noop and twice for addx<br>\n",
    "Part 1 should grab check at odd steps of 20 (1st, 3rd... )<br>\n",
    "\n",
    "Part 2 builds 2D array when c is within 1 of X"
   ]
  },
  {
   "cell_type": "code",
   "execution_count": 2,
   "metadata": {},
   "outputs": [
    {
     "name": "stdout",
     "output_type": "stream",
     "text": [
      "Part 1: 15680\n",
      "Part 2:\n",
      "####.####.###..####.#..#..##..#..#.###..\n",
      "...#.#....#..#.#....#..#.#..#.#..#.#..#.\n",
      "..#..###..###..###..####.#....#..#.#..#.\n",
      ".#...#....#..#.#....#..#.#.##.#..#.###..\n",
      "#....#....#..#.#....#..#.#..#.#..#.#....\n",
      "####.#....###..#....#..#..###..##..#....\n"
     ]
    }
   ],
   "source": [
    "X = 1\n",
    "c = 0\n",
    "crt = []\n",
    "\n",
    "part1 = 0\n",
    "\n",
    "def cycle():\n",
    "  global c, part1\n",
    "  c += 1\n",
    "\n",
    "  if c % 20 == 0 and c // 20 % 2 == 1:\n",
    "    part1 += c * X\n",
    "\n",
    "  draw()\n",
    "\n",
    "def draw():\n",
    "  lineno = (c-1) // 40\n",
    "  pos = (c-1) % 40\n",
    "  \n",
    "  if (pos == 0):\n",
    "    crt.append([])\n",
    "  \n",
    "  px = '.'\n",
    "  if pos in (X-1, X, X+1):\n",
    "    px = '#'\n",
    "  \n",
    "  crt[lineno] += px\n",
    "\n",
    "for l in data:\n",
    "  if l[0] == 'noop':\n",
    "    cycle()\n",
    "    continue\n",
    "  \n",
    "  if l[0] == 'addx':\n",
    "    cycle()\n",
    "    cycle()\n",
    "    X += int(l[1])\n",
    "\n",
    "print('Part 1:', part1)\n",
    "\n",
    "print('Part 2:')\n",
    "for r in crt:\n",
    "  print(''.join(r))"
   ]
  }
 ],
 "metadata": {
  "kernelspec": {
   "display_name": "Python 3.10.2 64-bit",
   "language": "python",
   "name": "python3"
  },
  "language_info": {
   "codemirror_mode": {
    "name": "ipython",
    "version": 3
   },
   "file_extension": ".py",
   "mimetype": "text/x-python",
   "name": "python",
   "nbconvert_exporter": "python",
   "pygments_lexer": "ipython3",
   "version": "3.10.2"
  },
  "orig_nbformat": 4,
  "vscode": {
   "interpreter": {
    "hash": "efef832fc54b4577cae0e0592c3f87ffedd74e7258a0a3a23d4c218218ebce6c"
   }
  }
 },
 "nbformat": 4,
 "nbformat_minor": 2
}
