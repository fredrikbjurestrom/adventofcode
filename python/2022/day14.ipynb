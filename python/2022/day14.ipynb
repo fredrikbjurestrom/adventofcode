{
 "cells": [
  {
   "cell_type": "markdown",
   "source": [
    "# Day 14: Regolith Reservoir"
   ],
   "metadata": {
    "collapsed": false
   }
  },
  {
   "cell_type": "markdown",
   "source": [
    "## Setup"
   ],
   "metadata": {
    "collapsed": false
   }
  },
  {
   "cell_type": "code",
   "execution_count": 295,
   "outputs": [],
   "source": [
    "data = [line for line in open(\"./inputs/day14.txt\", \"r\").read().splitlines()]"
   ],
   "metadata": {
    "collapsed": false
   }
  },
  {
   "cell_type": "markdown",
   "source": [
    "## Helpers\n",
    "Parse splits by arrow, starts with second value and adds ranges of rocks into set<br>\n",
    "<br>\n",
    "Displace we know from previous days<br>\n",
    "<br>\n",
    "Drop_sand is our physics engine that handles the recursive logic"
   ],
   "metadata": {
    "collapsed": false
   }
  },
  {
   "cell_type": "code",
   "execution_count": 296,
   "outputs": [],
   "source": [
    "def parse():\n",
    "    rocks = set()\n",
    "    \n",
    "    for l in data:\n",
    "        positions = l.split(' -> ')\n",
    "        for i in range(1, len(positions)):\n",
    "            from_x, from_y = positions[i-1].split(',')\n",
    "            to_x, to_y = positions[i].split(',')\n",
    "            \n",
    "            for x in range(int(min([from_x, to_x])), int(max([from_x, to_x]))+1):\n",
    "                for y in range(-int(max([from_y, to_y])), -int(min([from_y, to_y]))+1):\n",
    "                        rocks.add((x, y))\n",
    "    return rocks\n",
    "\n",
    "def displace(pos, vec):\n",
    "    return tuple([sum(x) for x in zip(pos, vec)])\n",
    "\n",
    "def drop_sand(unit, floor, obstacles):\n",
    "    if unit[1] < floor:\n",
    "        return unit\n",
    "    \n",
    "    down, downleft, downright = displace(unit, [0, -1]), displace(unit, [-1, -1]), displace(unit, [1, -1])\n",
    "\n",
    "    if down not in obstacles:\n",
    "        return drop_sand(down, floor, obstacles)\n",
    "    \n",
    "    if downleft in obstacles and downright in obstacles:\n",
    "        return unit\n",
    "    \n",
    "    return drop_sand(downleft, floor, obstacles) if downleft not in obstacles else drop_sand(downright, floor, obstacles)"
   ],
   "metadata": {
    "collapsed": false
   }
  },
  {
   "cell_type": "markdown",
   "source": [
    "## Part 1\n",
    "Our first loop runs until we've noticed that we have passed our \"abyss\" level"
   ],
   "metadata": {
    "collapsed": false
   }
  },
  {
   "cell_type": "code",
   "execution_count": 297,
   "outputs": [
    {
     "name": "stdout",
     "output_type": "stream",
     "text": [
      "665\n"
     ]
    }
   ],
   "source": [
    "rocks = parse()\n",
    "floor = min([y for (x, y) in rocks])\n",
    "sand = set()\n",
    "start = (500, 0)\n",
    "units = 0\n",
    "while True:\n",
    "    cur = start\n",
    "    cur = drop_sand(cur, floor, rocks.union(sand))\n",
    "\n",
    "    if cur[1] < floor:\n",
    "        break\n",
    "\n",
    "    units += 1\n",
    "    sand.add(cur)\n",
    "\n",
    "print(units)"
   ],
   "metadata": {
    "collapsed": false
   }
  },
  {
   "cell_type": "markdown",
   "source": [
    "## Part 2\n",
    "Our longest running solution yet.<br>\n",
    "Add a new floor running from start startx-y to startx+y. (The triangle shape should stay within a square)"
   ],
   "metadata": {
    "collapsed": false
   }
  },
  {
   "cell_type": "code",
   "execution_count": 300,
   "outputs": [
    {
     "name": "stdout",
     "output_type": "stream",
     "text": [
      "-164 336 665\n",
      "25434\n"
     ]
    }
   ],
   "source": [
    "rocks = parse()\n",
    "floor = min([y for (x, y) in rocks]) - 2\n",
    "\n",
    "sand = set()\n",
    "start = (500, 0)\n",
    "\n",
    "for fx in range(start[0]-abs(floor), start[0]+abs(floor)+1):\n",
    "    rocks.add((fx, floor))\n",
    "\n",
    "units = 0\n",
    "while True:\n",
    "    cur = start\n",
    "    cur = drop_sand(cur, floor, rocks.union(sand))\n",
    "    units += 1\n",
    "    \n",
    "    if cur == start:\n",
    "        break\n",
    "\n",
    "    sand.add(cur)\n",
    "\n",
    "print(units)"
   ],
   "metadata": {
    "collapsed": false
   }
  }
 ],
 "metadata": {
  "kernelspec": {
   "display_name": "Python 3",
   "language": "python",
   "name": "python3"
  },
  "language_info": {
   "codemirror_mode": {
    "name": "ipython",
    "version": 2
   },
   "file_extension": ".py",
   "mimetype": "text/x-python",
   "name": "python",
   "nbconvert_exporter": "python",
   "pygments_lexer": "ipython2",
   "version": "2.7.6"
  }
 },
 "nbformat": 4,
 "nbformat_minor": 0
}
